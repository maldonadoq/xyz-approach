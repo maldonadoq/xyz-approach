{
  "cells": [
    {
      "attachments": {},
      "cell_type": "markdown",
      "metadata": {
        "id": "Mk8RhiayBqd0"
      },
      "source": [
        "### Unsupervised Net"
      ]
    },
    {
      "cell_type": "code",
      "execution_count": 1,
      "metadata": {
        "id": "rl2q89l-B5y9"
      },
      "outputs": [],
      "source": [
        "import torch\n",
        "import torch.nn as nn\n",
        "import torch.optim as optim\n",
        "\n",
        "from tqdm import tqdm\n",
        "from cv2.ximgproc import guidedFilter\n",
        "from skimage.metrics import structural_similarity as ssim\n",
        "from skimage.metrics import peak_signal_noise_ratio as psnr\n",
        "\n",
        "import numpy as np\n",
        "import sys\n",
        "\n",
        "from utils.collection import HazeCollection\n",
        "from utils.network import VaeNet, HazyNet\n",
        "from utils.loss import StdLoss\n",
        "from utils.utils import get_atmosphere, torch_to_np, np_to_torch, save_image, get_information"
      ]
    },
    {
      "attachments": {},
      "cell_type": "markdown",
      "metadata": {
        "id": "q92VdKEAC-rT"
      },
      "source": [
        "#### Collection"
      ]
    },
    {
      "cell_type": "code",
      "execution_count": 2,
      "metadata": {
        "id": "-SOJ0kJR5Vad"
      },
      "outputs": [],
      "source": [
        "haze_path_dt0 = \"/home/maldonadoq/Datasets/Reside/Standard/OWN/hazy_only\"\n",
        "image_path_dt0 = \"/home/maldonadoq/Datasets/Reside/Standard/OWN/gt_only\"\n",
        "\n",
        "haze_path_dt1 = \"/home/maldonadoq/Datasets/Reside/Standard/HSTS/synthetic/synthetic\"\n",
        "image_path_dt1 = \"/home/maldonadoq/Datasets/Reside/Standard/HSTS/synthetic/original\"\n",
        "\n",
        "haze_path_dt2 = \"/home/maldonadoq/Datasets/Reside/Standard/HSTS/real-world\"\n",
        "\n",
        "haze_path_dt3 = \"/home/maldonadoq/Datasets/Reside/Standard/SOTS/indoor/hazy_val\"\n",
        "image_path_dt3 = \"/home/maldonadoq/Datasets/Reside/Standard/SOTS/indoor/gt_val\""
      ]
    },
    {
      "cell_type": "code",
      "execution_count": 3,
      "metadata": {},
      "outputs": [],
      "source": [
        "size = 256\n",
        "channels = 3\n",
        "\n",
        "collection_dt0 = HazeCollection(haze_path_dt0, image_path_dt0)\n",
        "collection_dt1 = HazeCollection(haze_path_dt1, image_path_dt1)\n",
        "collection_dt2 = HazeCollection(haze_path_dt2)\n",
        "collection_dt3 = HazeCollection(haze_path_dt3, image_path_dt3)"
      ]
    },
    {
      "attachments": {},
      "cell_type": "markdown",
      "metadata": {
        "id": "P9-3KLGKDFUD"
      },
      "source": [
        "#### Model"
      ]
    },
    {
      "cell_type": "code",
      "execution_count": 4,
      "metadata": {},
      "outputs": [
        {
          "data": {
            "text/plain": [
              "torch.Size([1, 3, 256, 256])"
            ]
          },
          "execution_count": 4,
          "metadata": {},
          "output_type": "execute_result"
        }
      ],
      "source": [
        "# UNet\n",
        "un = HazyNet(channels)\n",
        "\n",
        "x = torch.zeros([1, channels, size, size])\n",
        "a = un(x)\n",
        "a.shape"
      ]
    },
    {
      "attachments": {},
      "cell_type": "markdown",
      "metadata": {
        "id": "96AaXzvpFCHR"
      },
      "source": [
        "#### Training"
      ]
    },
    {
      "cell_type": "code",
      "execution_count": 5,
      "metadata": {
        "id": "DY3Dti5s5f6T"
      },
      "outputs": [],
      "source": [
        "class XhotTrainer:\n",
        "    def __init__(\n",
        "        self,\n",
        "        metrics=[]\n",
        "    ):\n",
        "        self.device = \"cuda\" if torch.cuda.is_available() else \"cpu\"\n",
        "        self.metrics = metrics\n",
        "\n",
        "    def init(self, image):\n",
        "        self.model = {\n",
        "            \"netJ\": HazyNet(out_channel=3).to(self.device),\n",
        "            \"netT\": HazyNet(out_channel=1).to(self.device),\n",
        "            \"netA\": VaeNet(image.shape).to(self.device)\n",
        "        }\n",
        "        self.loss = {\n",
        "            \"mse\": nn.MSELoss().to(self.device),\n",
        "            \"std\": StdLoss().to(self.device)\n",
        "        }\n",
        "\n",
        "        atmosphere = get_atmosphere(image)\n",
        "        self.valA = nn.Parameter(data=torch.cuda.FloatTensor(\n",
        "            atmosphere.reshape((1, 3, 1, 1))), requires_grad=False)\n",
        "\n",
        "        parameters = [p for p in self.model[\"netJ\"].parameters()]\n",
        "        parameters += [p for p in self.model[\"netT\"].parameters()]\n",
        "        parameters += [p for p in self.model[\"netA\"].parameters()]\n",
        "\n",
        "        self.optimizer = optim.Adam(\n",
        "            parameters,\n",
        "            lr=self.learning_rate\n",
        "        )\n",
        "\n",
        "    def t_matting(self, mask_out_np, original):\n",
        "        refine_t = guidedFilter(original.transpose(1, 2, 0).astype(\n",
        "            np.float32), mask_out_np[0].astype(np.float32), 50, 1e-4)\n",
        "        return np.array([np.clip(refine_t, 0.1, 1)])\n",
        "\n",
        "    def train(self, information, epochs):\n",
        "        haze, image, name = information\n",
        "        self.init(haze)\n",
        "        loop = tqdm(range(epochs))\n",
        "\n",
        "        losses = []\n",
        "        lossFinal = None\n",
        "\n",
        "        hazeTorch = np_to_torch(haze)\n",
        "        hazeTorch = hazeTorch.to(device=self.device)\n",
        "        for i in loop:\n",
        "            # forward\n",
        "            predT = self.model[\"netT\"](hazeTorch)\n",
        "            predJ = self.model[\"netJ\"](hazeTorch)\n",
        "            predA = self.model[\"netA\"](hazeTorch)\n",
        "\n",
        "            #lossT = self.loss[\"std\"](predT)\n",
        "            lossJ = self.loss[\"mse\"](predT * predJ + (1 - predT) * predA, hazeTorch)\n",
        "            lossA = self.model[\"netA\"].getLoss()\n",
        "\n",
        "            lossFinal = lossJ + lossA\n",
        "            lossFinal += 0.1 * self.loss[\"std\"](predA)\n",
        "            lossFinal += self.loss[\"mse\"](predA,self.valA * torch.ones_like(predA))\n",
        "\n",
        "            #if i % 100 == 0 or i == epochs-1:\n",
        "            if i == epochs-1:\n",
        "                imageJ = np.clip(torch_to_np(predJ), 0, 1)\n",
        "                imageT = np.clip(torch_to_np(predT), 0, 1)\n",
        "                imageA = np.clip(torch_to_np(predA), 0, 1)\n",
        "                imageT = self.t_matting(imageT, haze)\n",
        "\n",
        "                # I(x) = J(x)t(x) + A(1 − t(x))\n",
        "                post = np.clip((haze - ((1 - imageT) * imageA)) / imageT, 0, 1)\n",
        "                save_image('{}_{}'.format(name[0].split('.')[0], i+1), post, './images/xhot/' + self.dt_number)\n",
        "                save_image('J{}_{}'.format(name[0].split('.')[0], i+1), imageJ, './images/xhot/' + self.dt_number)\n",
        "                save_image('T{}_{}'.format(name[0].split('.')[0], i+1), imageT, './images/xhot/' + self.dt_number)\n",
        "                save_image('A{}_{}'.format(name[0].split('.')[0], i+1), imageA, './images/xhot/' + self.dt_number)\n",
        "\n",
        "            # backward\n",
        "            self.optimizer.zero_grad()\n",
        "            lossFinal.backward(retain_graph=True)\n",
        "            self.optimizer.step()\n",
        "\n",
        "            # update tqdm\n",
        "            loop.set_postfix(loss=lossFinal.item())\n",
        "            losses.append(lossFinal.item())\n",
        "        \n",
        "        # metrics\n",
        "        finalSSIM, finalPSNR = 0, 0\n",
        "        if image is not None:\n",
        "            finalSSIM = ssim(post, image, channel_axis=0, data_range=1)\n",
        "            finalPSNR = psnr(post, image)\n",
        "            print(\"Ssim: {:.4f}, Psnr: {:.4f}\\n\".format(finalSSIM, finalPSNR))\n",
        "\n",
        "        return [np.sum(losses)/len(losses), finalSSIM, finalPSNR]\n",
        "\n",
        "    def fit(\n",
        "        self,\n",
        "        collection,\n",
        "        epochs=1,\n",
        "        dt_number='',\n",
        "        learning_rate=1e-3\n",
        "    ):\n",
        "        historial = []\n",
        "        self.dt_number = dt_number\n",
        "        self.learning_rate = learning_rate\n",
        "        #loop = enumerate(tqdm(collection))\n",
        "        for i, info in enumerate(collection):\n",
        "            print('Image {}/{} [{}]'.format(i+1, len(collection), info[2][0]))\n",
        "            loss, ssim, psnr = self.train(info, epochs)\n",
        "            historial.append([loss, ssim, psnr])\n",
        "        return historial"
      ]
    },
    {
      "cell_type": "code",
      "execution_count": 6,
      "metadata": {
        "id": "kPsL9GKp7Vhm"
      },
      "outputs": [],
      "source": [
        "dehazing = XhotTrainer()"
      ]
    },
    {
      "attachments": {},
      "cell_type": "markdown",
      "metadata": {},
      "source": [
        "#### Testing"
      ]
    },
    {
      "cell_type": "code",
      "execution_count": 7,
      "metadata": {},
      "outputs": [],
      "source": [
        "epochs = 512\n",
        "learning_rate = 1e-4"
      ]
    },
    {
      "cell_type": "markdown",
      "metadata": {},
      "source": [
        "##### D0"
      ]
    },
    {
      "cell_type": "code",
      "execution_count": 8,
      "metadata": {},
      "outputs": [
        {
          "name": "stdout",
          "output_type": "stream",
          "text": [
            "Image 1/5 [8180_1.png]\n"
          ]
        },
        {
          "name": "stderr",
          "output_type": "stream",
          "text": [
            "100%|██████████| 512/512 [00:18<00:00, 27.54it/s, loss=0.00253]\n"
          ]
        },
        {
          "name": "stdout",
          "output_type": "stream",
          "text": [
            "Ssim: 0.9277, Psnr: 22.3425\n",
            "\n",
            "Image 2/5 [4561_1.png]\n"
          ]
        },
        {
          "name": "stderr",
          "output_type": "stream",
          "text": [
            "100%|██████████| 512/512 [00:15<00:00, 32.33it/s, loss=0.00848]\n"
          ]
        },
        {
          "name": "stdout",
          "output_type": "stream",
          "text": [
            "Ssim: 0.9571, Psnr: 27.0991\n",
            "\n",
            "Image 3/5 [1436_5.png]\n"
          ]
        },
        {
          "name": "stderr",
          "output_type": "stream",
          "text": [
            "100%|██████████| 512/512 [00:28<00:00, 17.81it/s, loss=0.0162]\n"
          ]
        },
        {
          "name": "stdout",
          "output_type": "stream",
          "text": [
            "Ssim: 0.6861, Psnr: 15.7361\n",
            "\n",
            "Image 4/5 [3146_1.png]\n"
          ]
        },
        {
          "name": "stderr",
          "output_type": "stream",
          "text": [
            "100%|██████████| 512/512 [00:16<00:00, 30.57it/s, loss=0.0018] \n"
          ]
        },
        {
          "name": "stdout",
          "output_type": "stream",
          "text": [
            "Ssim: 0.7973, Psnr: 18.4135\n",
            "\n",
            "Image 5/5 [1401_5.png]\n"
          ]
        },
        {
          "name": "stderr",
          "output_type": "stream",
          "text": [
            "100%|██████████| 512/512 [00:29<00:00, 17.09it/s, loss=0.00912]\n"
          ]
        },
        {
          "name": "stdout",
          "output_type": "stream",
          "text": [
            "Ssim: 0.8225, Psnr: 20.5916\n",
            "\n",
            "Mean SSIM: 0.8381352066993714\n",
            "Mean PSNR: 20.83656948826046\n",
            "Best SSIM: 4561_1.png\n",
            "Best PSNR: 4561_1.png\n"
          ]
        }
      ],
      "source": [
        "historial_dt0 = dehazing.fit(collection_dt0, epochs, 'd0/', learning_rate)\n",
        "get_information(historial_dt0, collection_dt0)"
      ]
    },
    {
      "cell_type": "markdown",
      "metadata": {},
      "source": [
        "##### D1"
      ]
    },
    {
      "cell_type": "code",
      "execution_count": 9,
      "metadata": {},
      "outputs": [
        {
          "name": "stdout",
          "output_type": "stream",
          "text": [
            "Image 1/10 [1381.jpg]\n"
          ]
        },
        {
          "name": "stderr",
          "output_type": "stream",
          "text": [
            "100%|██████████| 512/512 [00:22<00:00, 22.56it/s, loss=0.0171]\n"
          ]
        },
        {
          "name": "stdout",
          "output_type": "stream",
          "text": [
            "Ssim: 0.9081, Psnr: 23.8903\n",
            "\n",
            "Image 2/10 [5576.jpg]\n"
          ]
        },
        {
          "name": "stderr",
          "output_type": "stream",
          "text": [
            "100%|██████████| 512/512 [00:16<00:00, 30.37it/s, loss=0.00489]\n"
          ]
        },
        {
          "name": "stdout",
          "output_type": "stream",
          "text": [
            "Ssim: 0.8394, Psnr: 22.5253\n",
            "\n",
            "Image 3/10 [7471.jpg]\n"
          ]
        },
        {
          "name": "stderr",
          "output_type": "stream",
          "text": [
            "100%|██████████| 512/512 [00:19<00:00, 26.89it/s, loss=0.00858]\n"
          ]
        },
        {
          "name": "stdout",
          "output_type": "stream",
          "text": [
            "Ssim: 0.6155, Psnr: 14.7306\n",
            "\n",
            "Image 4/10 [0586.jpg]\n"
          ]
        },
        {
          "name": "stderr",
          "output_type": "stream",
          "text": [
            "100%|██████████| 512/512 [00:23<00:00, 22.12it/s, loss=0.00842]\n"
          ]
        },
        {
          "name": "stdout",
          "output_type": "stream",
          "text": [
            "Ssim: 0.8160, Psnr: 16.5083\n",
            "\n",
            "Image 5/10 [5920.jpg]\n"
          ]
        },
        {
          "name": "stderr",
          "output_type": "stream",
          "text": [
            "100%|██████████| 512/512 [00:22<00:00, 22.52it/s, loss=0.00607]\n"
          ]
        },
        {
          "name": "stdout",
          "output_type": "stream",
          "text": [
            "Ssim: 0.5109, Psnr: 14.8580\n",
            "\n",
            "Image 6/10 [3146.jpg]\n"
          ]
        },
        {
          "name": "stderr",
          "output_type": "stream",
          "text": [
            "100%|██████████| 512/512 [00:16<00:00, 30.43it/s, loss=0.00884]\n"
          ]
        },
        {
          "name": "stdout",
          "output_type": "stream",
          "text": [
            "Ssim: 0.7711, Psnr: 16.8407\n",
            "\n",
            "Image 7/10 [4184.jpg]\n"
          ]
        },
        {
          "name": "stderr",
          "output_type": "stream",
          "text": [
            "100%|██████████| 512/512 [00:26<00:00, 19.33it/s, loss=0.00938]\n"
          ]
        },
        {
          "name": "stdout",
          "output_type": "stream",
          "text": [
            "Ssim: 0.8067, Psnr: 15.6385\n",
            "\n",
            "Image 8/10 [8180.jpg]\n"
          ]
        },
        {
          "name": "stderr",
          "output_type": "stream",
          "text": [
            "100%|██████████| 512/512 [00:18<00:00, 27.08it/s, loss=0.00392]\n"
          ]
        },
        {
          "name": "stdout",
          "output_type": "stream",
          "text": [
            "Ssim: 0.8274, Psnr: 20.8163\n",
            "\n",
            "Image 9/10 [1352.jpg]\n"
          ]
        },
        {
          "name": "stderr",
          "output_type": "stream",
          "text": [
            "100%|██████████| 512/512 [00:44<00:00, 11.42it/s, loss=0.0216]\n"
          ]
        },
        {
          "name": "stdout",
          "output_type": "stream",
          "text": [
            "Ssim: 0.9240, Psnr: 21.7346\n",
            "\n",
            "Image 10/10 [4561.jpg]\n"
          ]
        },
        {
          "name": "stderr",
          "output_type": "stream",
          "text": [
            "100%|██████████| 512/512 [00:16<00:00, 30.29it/s, loss=0.00843]"
          ]
        },
        {
          "name": "stdout",
          "output_type": "stream",
          "text": [
            "Ssim: 0.9273, Psnr: 22.7511\n",
            "\n",
            "Mean SSIM: 0.7946345388889313\n",
            "Mean PSNR: 19.029381131729227\n",
            "Best SSIM: 4561.jpg\n",
            "Best PSNR: 1381.jpg\n"
          ]
        },
        {
          "name": "stderr",
          "output_type": "stream",
          "text": [
            "\n"
          ]
        }
      ],
      "source": [
        "historial_dt1 = dehazing.fit(collection_dt1, epochs, 'd1/', learning_rate)\n",
        "get_information(historial_dt1, collection_dt1)"
      ]
    },
    {
      "cell_type": "markdown",
      "metadata": {},
      "source": [
        "##### D2"
      ]
    },
    {
      "cell_type": "code",
      "execution_count": 10,
      "metadata": {},
      "outputs": [
        {
          "name": "stdout",
          "output_type": "stream",
          "text": [
            "Image 1/10 [SFC_Google_197.jpeg]\n"
          ]
        },
        {
          "name": "stderr",
          "output_type": "stream",
          "text": [
            "100%|██████████| 512/512 [00:34<00:00, 14.99it/s, loss=0.00431]\n"
          ]
        },
        {
          "name": "stdout",
          "output_type": "stream",
          "text": [
            "Image 2/10 [MLS_Bing_117.jpeg]\n"
          ]
        },
        {
          "name": "stderr",
          "output_type": "stream",
          "text": [
            "100%|██████████| 512/512 [00:39<00:00, 12.88it/s, loss=0.00861]\n"
          ]
        },
        {
          "name": "stdout",
          "output_type": "stream",
          "text": [
            "Image 3/10 [HazyDr_Google_396.jpeg]\n"
          ]
        },
        {
          "name": "stderr",
          "output_type": "stream",
          "text": [
            "100%|██████████| 512/512 [00:36<00:00, 14.09it/s, loss=0.00277]\n"
          ]
        },
        {
          "name": "stdout",
          "output_type": "stream",
          "text": [
            "Image 4/10 [SGP_Bing_085.jpeg]\n"
          ]
        },
        {
          "name": "stderr",
          "output_type": "stream",
          "text": [
            "100%|██████████| 512/512 [01:49<00:00,  4.66it/s, loss=0.0149]\n"
          ]
        },
        {
          "name": "stdout",
          "output_type": "stream",
          "text": [
            "Image 5/10 [NW_Google_837.jpeg]\n"
          ]
        },
        {
          "name": "stderr",
          "output_type": "stream",
          "text": [
            "100%|██████████| 512/512 [00:33<00:00, 15.23it/s, loss=0.0409]\n"
          ]
        },
        {
          "name": "stdout",
          "output_type": "stream",
          "text": [
            "Image 6/10 [YST_Bing_667.jpeg]\n"
          ]
        },
        {
          "name": "stderr",
          "output_type": "stream",
          "text": [
            "100%|██████████| 512/512 [00:40<00:00, 12.69it/s, loss=0.00499]\n"
          ]
        },
        {
          "name": "stdout",
          "output_type": "stream",
          "text": [
            "Image 7/10 [MLS_Google_585.png]\n"
          ]
        },
        {
          "name": "stderr",
          "output_type": "stream",
          "text": [
            "100%|██████████| 512/512 [01:11<00:00,  7.14it/s, loss=0.0116]\n"
          ]
        },
        {
          "name": "stdout",
          "output_type": "stream",
          "text": [
            "Image 8/10 [SGP_Bing_588.png]\n"
          ]
        },
        {
          "name": "stderr",
          "output_type": "stream",
          "text": [
            "100%|██████████| 512/512 [00:39<00:00, 12.99it/s, loss=0.00527]\n"
          ]
        },
        {
          "name": "stdout",
          "output_type": "stream",
          "text": [
            "Image 9/10 [KRO_Google_143.jpeg]\n"
          ]
        },
        {
          "name": "stderr",
          "output_type": "stream",
          "text": [
            "100%|██████████| 512/512 [00:39<00:00, 13.10it/s, loss=0.0068] \n"
          ]
        },
        {
          "name": "stdout",
          "output_type": "stream",
          "text": [
            "Image 10/10 [HazeDr_Google_404.jpeg]\n"
          ]
        },
        {
          "name": "stderr",
          "output_type": "stream",
          "text": [
            "100%|██████████| 512/512 [01:36<00:00,  5.28it/s, loss=0.0578]"
          ]
        },
        {
          "name": "stdout",
          "output_type": "stream",
          "text": [
            "Mean SSIM: 0.0\n",
            "Mean PSNR: 0.0\n",
            "Best SSIM: SFC_Google_197.jpeg\n",
            "Best PSNR: SFC_Google_197.jpeg\n"
          ]
        },
        {
          "name": "stderr",
          "output_type": "stream",
          "text": [
            "\n"
          ]
        }
      ],
      "source": [
        "historial_dt2 = dehazing.fit(collection_dt2, epochs, 'd2/', learning_rate)\n",
        "get_information(historial_dt2, collection_dt2)"
      ]
    },
    {
      "cell_type": "markdown",
      "metadata": {},
      "source": [
        "##### D3"
      ]
    },
    {
      "cell_type": "code",
      "execution_count": 11,
      "metadata": {},
      "outputs": [
        {
          "name": "stdout",
          "output_type": "stream",
          "text": [
            "Image 1/10 [1410_5.png]\n"
          ]
        },
        {
          "name": "stderr",
          "output_type": "stream",
          "text": [
            "100%|██████████| 512/512 [00:29<00:00, 17.59it/s, loss=0.0053] \n"
          ]
        },
        {
          "name": "stdout",
          "output_type": "stream",
          "text": [
            "Ssim: 0.9396, Psnr: 21.9628\n",
            "\n",
            "Image 2/10 [1430_5.png]\n"
          ]
        },
        {
          "name": "stderr",
          "output_type": "stream",
          "text": [
            "100%|██████████| 512/512 [00:29<00:00, 17.52it/s, loss=0.00419]\n"
          ]
        },
        {
          "name": "stdout",
          "output_type": "stream",
          "text": [
            "Ssim: 0.6151, Psnr: 16.5566\n",
            "\n",
            "Image 3/10 [1440_5.png]\n"
          ]
        },
        {
          "name": "stderr",
          "output_type": "stream",
          "text": [
            "100%|██████████| 512/512 [00:29<00:00, 17.52it/s, loss=0.018] \n"
          ]
        },
        {
          "name": "stdout",
          "output_type": "stream",
          "text": [
            "Ssim: 0.7569, Psnr: 14.8096\n",
            "\n",
            "Image 4/10 [1405_5.png]\n"
          ]
        },
        {
          "name": "stderr",
          "output_type": "stream",
          "text": [
            "100%|██████████| 512/512 [00:29<00:00, 17.57it/s, loss=0.0105]\n"
          ]
        },
        {
          "name": "stdout",
          "output_type": "stream",
          "text": [
            "Ssim: 0.7781, Psnr: 19.7325\n",
            "\n",
            "Image 5/10 [1400_5.png]\n"
          ]
        },
        {
          "name": "stderr",
          "output_type": "stream",
          "text": [
            "100%|██████████| 512/512 [00:29<00:00, 17.42it/s, loss=0.00812]\n"
          ]
        },
        {
          "name": "stdout",
          "output_type": "stream",
          "text": [
            "Ssim: 0.7952, Psnr: 14.8184\n",
            "\n",
            "Image 6/10 [1415_5.png]\n"
          ]
        },
        {
          "name": "stderr",
          "output_type": "stream",
          "text": [
            "100%|██████████| 512/512 [00:29<00:00, 17.55it/s, loss=0.00449]\n"
          ]
        },
        {
          "name": "stdout",
          "output_type": "stream",
          "text": [
            "Ssim: 0.8968, Psnr: 18.3258\n",
            "\n",
            "Image 7/10 [1445_5.png]\n"
          ]
        },
        {
          "name": "stderr",
          "output_type": "stream",
          "text": [
            "100%|██████████| 512/512 [00:28<00:00, 17.68it/s, loss=0.00594]\n"
          ]
        },
        {
          "name": "stdout",
          "output_type": "stream",
          "text": [
            "Ssim: 0.8600, Psnr: 20.0818\n",
            "\n",
            "Image 8/10 [1435_5.png]\n"
          ]
        },
        {
          "name": "stderr",
          "output_type": "stream",
          "text": [
            "100%|██████████| 512/512 [00:28<00:00, 17.76it/s, loss=0.00739]\n"
          ]
        },
        {
          "name": "stdout",
          "output_type": "stream",
          "text": [
            "Ssim: 0.8054, Psnr: 19.5626\n",
            "\n",
            "Image 9/10 [1425_5.png]\n"
          ]
        },
        {
          "name": "stderr",
          "output_type": "stream",
          "text": [
            "100%|██████████| 512/512 [00:29<00:00, 17.53it/s, loss=0.0126]\n"
          ]
        },
        {
          "name": "stdout",
          "output_type": "stream",
          "text": [
            "Ssim: 0.7810, Psnr: 17.1149\n",
            "\n",
            "Image 10/10 [1420_5.png]\n"
          ]
        },
        {
          "name": "stderr",
          "output_type": "stream",
          "text": [
            "100%|██████████| 512/512 [00:28<00:00, 17.72it/s, loss=0.0073] \n"
          ]
        },
        {
          "name": "stdout",
          "output_type": "stream",
          "text": [
            "Ssim: 0.8007, Psnr: 14.1449\n",
            "\n",
            "Mean SSIM: 0.802893215417862\n",
            "Mean PSNR: 17.71099247998839\n",
            "Best SSIM: 1410_5.png\n",
            "Best PSNR: 1410_5.png\n"
          ]
        }
      ],
      "source": [
        "historial_dt3 = dehazing.fit(collection_dt3, epochs, 'd3/', learning_rate)\n",
        "get_information(historial_dt3, collection_dt3)"
      ]
    }
  ],
  "metadata": {
    "accelerator": "GPU",
    "colab": {
      "provenance": []
    },
    "gpuClass": "standard",
    "kernelspec": {
      "display_name": "Python 3",
      "name": "python3"
    },
    "language_info": {
      "codemirror_mode": {
        "name": "ipython",
        "version": 3
      },
      "file_extension": ".py",
      "mimetype": "text/x-python",
      "name": "python",
      "nbconvert_exporter": "python",
      "pygments_lexer": "ipython3",
      "version": "3.9.16"
    }
  },
  "nbformat": 4,
  "nbformat_minor": 0
}
