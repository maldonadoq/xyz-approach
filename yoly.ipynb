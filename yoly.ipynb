{
  "cells": [
    {
      "attachments": {},
      "cell_type": "markdown",
      "metadata": {
        "id": "Mk8RhiayBqd0"
      },
      "source": [
        "### Yoly Network"
      ]
    },
    {
      "cell_type": "code",
      "execution_count": 1,
      "metadata": {
        "id": "rl2q89l-B5y9"
      },
      "outputs": [],
      "source": [
        "import torch\n",
        "import torch.nn as nn\n",
        "import torch.optim as optim\n",
        "\n",
        "from tqdm import tqdm\n",
        "from cv2.ximgproc import guidedFilter\n",
        "from skimage.color import rgb2hsv\n",
        "from skimage.metrics import structural_similarity as ssim\n",
        "from skimage.metrics import peak_signal_noise_ratio as psnr\n",
        "\n",
        "import numpy as np\n",
        "import sys\n",
        "\n",
        "from utils.collection import HazeCollection\n",
        "from utils.network import VaeNet, Net\n",
        "from utils.loss import StdLoss\n",
        "from utils.utils import get_atmosphere, torch_to_np, np_to_torch, save_image, get_information\n",
        "from utils.imresize import np_imresize"
      ]
    },
    {
      "attachments": {},
      "cell_type": "markdown",
      "metadata": {
        "id": "q92VdKEAC-rT"
      },
      "source": [
        "#### Collection"
      ]
    },
    {
      "cell_type": "code",
      "execution_count": 2,
      "metadata": {
        "id": "-SOJ0kJR5Vad"
      },
      "outputs": [],
      "source": [
        "haze_path_dt1 = \"/home/maldonadoq/Datasets/Reside/Standard/HSTS/synthetic/synthetic\"\n",
        "image_path_dt1 = \"/home/maldonadoq/Datasets/Reside/Standard/HSTS/synthetic/original\"\n",
        "\n",
        "haze_path_dt2 = \"/home/maldonadoq/Datasets/Reside/Standard/HSTS/real-world\"\n",
        "\n",
        "haze_path_dt3 = \"/home/maldonadoq/Datasets/Reside/Standard/SOTS/indoor/hazy_val\"\n",
        "image_path_dt3 = \"/home/maldonadoq/Datasets/Reside/Standard/SOTS/indoor/gt_val\""
      ]
    },
    {
      "cell_type": "code",
      "execution_count": 3,
      "metadata": {},
      "outputs": [],
      "source": [
        "size = 256\n",
        "channels = 3\n",
        "\n",
        "collection_dt1 = HazeCollection(haze_path_dt1, image_path_dt1)\n",
        "collection_dt2 = HazeCollection(haze_path_dt2)\n",
        "collection_dt3 = HazeCollection(haze_path_dt3, image_path_dt3)"
      ]
    },
    {
      "attachments": {},
      "cell_type": "markdown",
      "metadata": {
        "id": "P9-3KLGKDFUD"
      },
      "source": [
        "#### Model"
      ]
    },
    {
      "cell_type": "code",
      "execution_count": 4,
      "metadata": {},
      "outputs": [
        {
          "data": {
            "text/plain": [
              "torch.Size([1, 3, 256, 256])"
            ]
          },
          "execution_count": 4,
          "metadata": {},
          "output_type": "execute_result"
        }
      ],
      "source": [
        "# UNet\n",
        "un = Net(channels)\n",
        "\n",
        "x = torch.zeros([1, channels, size, size])\n",
        "a = un(x)\n",
        "a.shape"
      ]
    },
    {
      "attachments": {},
      "cell_type": "markdown",
      "metadata": {
        "id": "96AaXzvpFCHR"
      },
      "source": [
        "#### Training"
      ]
    },
    {
      "cell_type": "code",
      "execution_count": 5,
      "metadata": {
        "id": "DY3Dti5s5f6T"
      },
      "outputs": [],
      "source": [
        "class YolyTrainer:\n",
        "    def __init__(\n",
        "        self,\n",
        "        metrics=[]\n",
        "    ):\n",
        "        self.device = \"cuda\" if torch.cuda.is_available() else \"cpu\"\n",
        "        self.metrics = metrics\n",
        "\n",
        "    def init(self, image):\n",
        "        self.model = {\n",
        "            \"netJ\": Net(out_channel=3).to(self.device),\n",
        "            \"netT\": Net(out_channel=1).to(self.device),\n",
        "            \"netA\": VaeNet(image.shape).to(self.device)\n",
        "        }\n",
        "        self.loss = {\n",
        "            \"mse\": nn.MSELoss().to(self.device),\n",
        "            \"std\": StdLoss().to(self.device)\n",
        "        }\n",
        "\n",
        "        atmosphere = get_atmosphere(image)\n",
        "        self.valA = nn.Parameter(data=torch.cuda.FloatTensor(\n",
        "            atmosphere.reshape((1, 3, 1, 1))), requires_grad=False)\n",
        "\n",
        "        parameters = [p for p in self.model[\"netJ\"].parameters()]\n",
        "        parameters += [p for p in self.model[\"netT\"].parameters()]\n",
        "        parameters += [p for p in self.model[\"netA\"].parameters()]\n",
        "\n",
        "        self.optimizer = optim.Adam(\n",
        "            parameters,\n",
        "            lr=self.learning_rate\n",
        "        )\n",
        "\n",
        "    def t_matting(self, mask_out_np, original):\n",
        "        refine_t = guidedFilter(original.transpose(1, 2, 0).astype(\n",
        "            np.float32), mask_out_np[0].astype(np.float32), 50, 1e-4)\n",
        "        return np.array([np.clip(refine_t, 0.1, 1)])\n",
        "\n",
        "    def train(self, information, epochs):\n",
        "        (haze, image, name) = information\n",
        "        self.init(haze)\n",
        "        loop = tqdm(range(epochs))\n",
        "\n",
        "        losses = []\n",
        "        lossFinal = None\n",
        "\n",
        "        hazeTorch = np_to_torch(haze)\n",
        "        hazeTorch = hazeTorch.to(device=self.device)\n",
        "        for i in loop:\n",
        "            # forward\n",
        "            predT = self.model[\"netT\"](hazeTorch)\n",
        "            predJ = self.model[\"netJ\"](hazeTorch)\n",
        "            predA = self.model[\"netA\"](hazeTorch)\n",
        "\n",
        "            #lossT = self.loss[\"std\"](predT)\n",
        "            lossJ = self.loss[\"mse\"](predT * predJ + (1 - predT) * predA, hazeTorch)\n",
        "            lossA = self.model[\"netA\"].getLoss()\n",
        "\n",
        "            hsv = np_to_torch(rgb2hsv(torch_to_np(predJ).transpose(1, 2, 0)))\n",
        "            cap_prior = hsv[:, :, :, 2] - hsv[:, :, :, 1]\n",
        "            cap_loss = self.loss[\"mse\"](cap_prior, torch.zeros_like(cap_prior))\n",
        "\n",
        "            lossFinal = lossJ + lossA\n",
        "            lossFinal += 1.0 * cap_loss\n",
        "            lossFinal += 0.1 * self.loss[\"std\"](predA)\n",
        "            lossFinal += self.loss[\"mse\"](predA,self.valA * torch.ones_like(predA))\n",
        "\n",
        "            #if i % 100 == 0 or i == epochs-1:\n",
        "            if i == epochs-1:\n",
        "                imageJ = np.clip(torch_to_np(predJ), 0, 1)\n",
        "                imageT = np.clip(torch_to_np(predT), 0, 1)\n",
        "                imageA = np.clip(torch_to_np(predA), 0, 1)\n",
        "                imageT = self.t_matting(imageT, haze)\n",
        "\n",
        "                # I(x) = J(x)t(x) + A(1 − t(x))\n",
        "                post = np.clip((haze - ((1 - imageT) * imageA)) / imageT, 0, 1)\n",
        "                post = np_imresize(post, output_shape=haze.shape[1:])\n",
        "                save_image('{}_{}'.format(name[0].split('.')[0], i+1), post, './images/yoly/' + self.dt_number)\n",
        "\n",
        "            # backward\n",
        "            self.optimizer.zero_grad()\n",
        "            lossFinal.backward(retain_graph=True)\n",
        "            self.optimizer.step()\n",
        "\n",
        "            # update tqdm\n",
        "            loop.set_postfix(loss=lossFinal.item())\n",
        "            losses.append(lossFinal.item())\n",
        "        \n",
        "        # metrics\n",
        "        finalSSIM, finalPSNR = 0, 0\n",
        "        if image is not None:\n",
        "            finalSSIM = ssim(post, image, channel_axis=0, data_range=1)\n",
        "            finalPSNR = psnr(post, image)\n",
        "            print(\"Ssim: {:.4f}, Psnr: {:.4f}\\n\".format(finalSSIM, finalPSNR))\n",
        "\n",
        "        return [np.sum(losses)/len(losses), finalSSIM, finalPSNR]\n",
        "\n",
        "    def fit(\n",
        "        self,\n",
        "        collection,\n",
        "        epochs=1,\n",
        "        dt_number='',\n",
        "        learning_rate=1e-3\n",
        "    ):\n",
        "        historial = []\n",
        "        self.dt_number = dt_number\n",
        "        self.learning_rate = learning_rate\n",
        "        #loop = enumerate(tqdm(collection))\n",
        "        for i, info in enumerate(collection):\n",
        "            print('Image {}/{} [{}]'.format(i+1, len(collection), info[2][0]))\n",
        "            loss, ssim, psnr = self.train(info, epochs)\n",
        "            historial.append([loss, ssim, psnr])\n",
        "        return historial"
      ]
    },
    {
      "cell_type": "code",
      "execution_count": 6,
      "metadata": {
        "id": "kPsL9GKp7Vhm"
      },
      "outputs": [],
      "source": [
        "dehazing = YolyTrainer()"
      ]
    },
    {
      "attachments": {},
      "cell_type": "markdown",
      "metadata": {},
      "source": [
        "#### Testing"
      ]
    },
    {
      "cell_type": "code",
      "execution_count": 7,
      "metadata": {},
      "outputs": [],
      "source": [
        "epochs = 512\n",
        "learning_rate = 1e-4"
      ]
    },
    {
      "cell_type": "markdown",
      "metadata": {},
      "source": [
        "##### D1"
      ]
    },
    {
      "cell_type": "code",
      "execution_count": 8,
      "metadata": {},
      "outputs": [
        {
          "name": "stdout",
          "output_type": "stream",
          "text": [
            "Image 1/10 [1381.jpg]\n"
          ]
        },
        {
          "name": "stderr",
          "output_type": "stream",
          "text": [
            "100%|██████████| 512/512 [00:25<00:00, 20.39it/s, loss=0.0901]\n"
          ]
        },
        {
          "name": "stdout",
          "output_type": "stream",
          "text": [
            "Ssim: 0.8456, Psnr: 18.1391\n",
            "\n",
            "Image 2/10 [5576.jpg]\n"
          ]
        },
        {
          "name": "stderr",
          "output_type": "stream",
          "text": [
            "100%|██████████| 512/512 [00:18<00:00, 28.18it/s, loss=0.401]\n"
          ]
        },
        {
          "name": "stdout",
          "output_type": "stream",
          "text": [
            "Ssim: 0.8039, Psnr: 20.8515\n",
            "\n",
            "Image 3/10 [7471.jpg]\n"
          ]
        },
        {
          "name": "stderr",
          "output_type": "stream",
          "text": [
            "100%|██████████| 512/512 [00:20<00:00, 25.07it/s, loss=0.266]\n"
          ]
        },
        {
          "name": "stdout",
          "output_type": "stream",
          "text": [
            "Ssim: 0.9042, Psnr: 24.2298\n",
            "\n",
            "Image 4/10 [0586.jpg]\n"
          ]
        },
        {
          "name": "stderr",
          "output_type": "stream",
          "text": [
            "100%|██████████| 512/512 [00:24<00:00, 20.88it/s, loss=0.177]\n"
          ]
        },
        {
          "name": "stdout",
          "output_type": "stream",
          "text": [
            "Ssim: 0.5301, Psnr: 14.3342\n",
            "\n",
            "Image 5/10 [5920.jpg]\n"
          ]
        },
        {
          "name": "stderr",
          "output_type": "stream",
          "text": [
            "100%|██████████| 512/512 [00:24<00:00, 20.76it/s, loss=0.16] \n"
          ]
        },
        {
          "name": "stdout",
          "output_type": "stream",
          "text": [
            "Ssim: 0.5749, Psnr: 16.1564\n",
            "\n",
            "Image 6/10 [3146.jpg]\n"
          ]
        },
        {
          "name": "stderr",
          "output_type": "stream",
          "text": [
            "100%|██████████| 512/512 [00:19<00:00, 26.33it/s, loss=0.22] \n"
          ]
        },
        {
          "name": "stdout",
          "output_type": "stream",
          "text": [
            "Ssim: 0.8698, Psnr: 23.3041\n",
            "\n",
            "Image 7/10 [4184.jpg]\n"
          ]
        },
        {
          "name": "stderr",
          "output_type": "stream",
          "text": [
            "100%|██████████| 512/512 [00:29<00:00, 17.64it/s, loss=0.312]\n"
          ]
        },
        {
          "name": "stdout",
          "output_type": "stream",
          "text": [
            "Ssim: 0.8901, Psnr: 20.1189\n",
            "\n",
            "Image 8/10 [8180.jpg]\n"
          ]
        },
        {
          "name": "stderr",
          "output_type": "stream",
          "text": [
            "100%|██████████| 512/512 [00:21<00:00, 24.19it/s, loss=0.179]\n"
          ]
        },
        {
          "name": "stdout",
          "output_type": "stream",
          "text": [
            "Ssim: 0.7684, Psnr: 19.3270\n",
            "\n",
            "Image 9/10 [1352.jpg]\n"
          ]
        },
        {
          "name": "stderr",
          "output_type": "stream",
          "text": [
            "100%|██████████| 512/512 [00:47<00:00, 10.80it/s, loss=0.24] \n"
          ]
        },
        {
          "name": "stdout",
          "output_type": "stream",
          "text": [
            "Ssim: 0.3921, Psnr: 12.6644\n",
            "\n",
            "Image 10/10 [4561.jpg]\n"
          ]
        },
        {
          "name": "stderr",
          "output_type": "stream",
          "text": [
            "100%|██████████| 512/512 [00:19<00:00, 26.25it/s, loss=0.132]"
          ]
        },
        {
          "name": "stdout",
          "output_type": "stream",
          "text": [
            "Ssim: 0.9444, Psnr: 27.9635\n",
            "\n",
            "Mean SSIM: 0.7523489892482758\n",
            "Mean PSNR: 19.708888375267897\n",
            "Best SSIM: 4561.jpg\n",
            "Best PSNR: 4561.jpg\n"
          ]
        },
        {
          "name": "stderr",
          "output_type": "stream",
          "text": [
            "\n"
          ]
        }
      ],
      "source": [
        "historial_dt1 = dehazing.fit(collection_dt1, epochs, 'd1/', learning_rate)\n",
        "get_information(historial_dt1, collection_dt1)"
      ]
    },
    {
      "cell_type": "markdown",
      "metadata": {},
      "source": [
        "##### D2"
      ]
    },
    {
      "cell_type": "code",
      "execution_count": 9,
      "metadata": {},
      "outputs": [
        {
          "name": "stdout",
          "output_type": "stream",
          "text": [
            "Image 1/10 [SFC_Google_197.jpeg]\n"
          ]
        },
        {
          "name": "stderr",
          "output_type": "stream",
          "text": [
            "100%|██████████| 512/512 [00:36<00:00, 13.96it/s, loss=0.209]\n"
          ]
        },
        {
          "name": "stdout",
          "output_type": "stream",
          "text": [
            "Image 2/10 [MLS_Bing_117.jpeg]\n"
          ]
        },
        {
          "name": "stderr",
          "output_type": "stream",
          "text": [
            "100%|██████████| 512/512 [00:40<00:00, 12.51it/s, loss=0.468]\n"
          ]
        },
        {
          "name": "stdout",
          "output_type": "stream",
          "text": [
            "Image 3/10 [HazyDr_Google_396.jpeg]\n"
          ]
        },
        {
          "name": "stderr",
          "output_type": "stream",
          "text": [
            "100%|██████████| 512/512 [00:37<00:00, 13.61it/s, loss=0.159]\n"
          ]
        },
        {
          "name": "stdout",
          "output_type": "stream",
          "text": [
            "Image 4/10 [SGP_Bing_085.jpeg]\n"
          ]
        },
        {
          "name": "stderr",
          "output_type": "stream",
          "text": [
            "100%|██████████| 512/512 [01:54<00:00,  4.48it/s, loss=0.205]\n"
          ]
        },
        {
          "name": "stdout",
          "output_type": "stream",
          "text": [
            "Image 5/10 [NW_Google_837.jpeg]\n"
          ]
        },
        {
          "name": "stderr",
          "output_type": "stream",
          "text": [
            "100%|██████████| 512/512 [00:35<00:00, 14.42it/s, loss=0.285]\n"
          ]
        },
        {
          "name": "stdout",
          "output_type": "stream",
          "text": [
            "Image 6/10 [YST_Bing_667.jpeg]\n"
          ]
        },
        {
          "name": "stderr",
          "output_type": "stream",
          "text": [
            "100%|██████████| 512/512 [00:40<00:00, 12.59it/s, loss=0.119]\n"
          ]
        },
        {
          "name": "stdout",
          "output_type": "stream",
          "text": [
            "Image 7/10 [MLS_Google_585.png]\n"
          ]
        },
        {
          "name": "stderr",
          "output_type": "stream",
          "text": [
            "100%|██████████| 512/512 [01:13<00:00,  7.00it/s, loss=0.245]\n"
          ]
        },
        {
          "name": "stdout",
          "output_type": "stream",
          "text": [
            "Image 8/10 [SGP_Bing_588.png]\n"
          ]
        },
        {
          "name": "stderr",
          "output_type": "stream",
          "text": [
            "100%|██████████| 512/512 [00:40<00:00, 12.50it/s, loss=0.286]\n"
          ]
        },
        {
          "name": "stdout",
          "output_type": "stream",
          "text": [
            "Image 9/10 [KRO_Google_143.jpeg]\n"
          ]
        },
        {
          "name": "stderr",
          "output_type": "stream",
          "text": [
            "100%|██████████| 512/512 [00:40<00:00, 12.54it/s, loss=0.37] \n"
          ]
        },
        {
          "name": "stdout",
          "output_type": "stream",
          "text": [
            "Image 10/10 [HazeDr_Google_404.jpeg]\n"
          ]
        },
        {
          "name": "stderr",
          "output_type": "stream",
          "text": [
            "100%|██████████| 512/512 [01:42<00:00,  5.00it/s, loss=0.255]"
          ]
        },
        {
          "name": "stdout",
          "output_type": "stream",
          "text": [
            "Mean SSIM: 0.0\n",
            "Mean PSNR: 0.0\n",
            "Best SSIM: SFC_Google_197.jpeg\n",
            "Best PSNR: SFC_Google_197.jpeg\n"
          ]
        },
        {
          "name": "stderr",
          "output_type": "stream",
          "text": [
            "\n"
          ]
        }
      ],
      "source": [
        "historial_dt2 = dehazing.fit(collection_dt2, epochs, 'd2/', learning_rate)\n",
        "get_information(historial_dt2, collection_dt2)"
      ]
    },
    {
      "cell_type": "markdown",
      "metadata": {},
      "source": [
        "##### D3"
      ]
    },
    {
      "cell_type": "code",
      "execution_count": 10,
      "metadata": {},
      "outputs": [
        {
          "name": "stdout",
          "output_type": "stream",
          "text": [
            "Image 1/10 [1410_5.png]\n"
          ]
        },
        {
          "name": "stderr",
          "output_type": "stream",
          "text": [
            "  6%|▌         | 30/512 [00:01<00:28, 16.74it/s, loss=0.317]"
          ]
        },
        {
          "name": "stderr",
          "output_type": "stream",
          "text": [
            "100%|██████████| 512/512 [00:30<00:00, 16.64it/s, loss=0.147]\n"
          ]
        },
        {
          "name": "stdout",
          "output_type": "stream",
          "text": [
            "Ssim: 0.8990, Psnr: 20.5653\n",
            "\n",
            "Image 2/10 [1430_5.png]\n"
          ]
        },
        {
          "name": "stderr",
          "output_type": "stream",
          "text": [
            "100%|██████████| 512/512 [00:30<00:00, 16.61it/s, loss=0.0755]\n"
          ]
        },
        {
          "name": "stdout",
          "output_type": "stream",
          "text": [
            "Ssim: 0.6122, Psnr: 16.1838\n",
            "\n",
            "Image 3/10 [1440_5.png]\n"
          ]
        },
        {
          "name": "stderr",
          "output_type": "stream",
          "text": [
            "100%|██████████| 512/512 [00:30<00:00, 16.66it/s, loss=0.352]\n"
          ]
        },
        {
          "name": "stdout",
          "output_type": "stream",
          "text": [
            "Ssim: 0.7841, Psnr: 17.1632\n",
            "\n",
            "Image 4/10 [1405_5.png]\n"
          ]
        },
        {
          "name": "stderr",
          "output_type": "stream",
          "text": [
            "100%|██████████| 512/512 [00:30<00:00, 16.61it/s, loss=0.389]\n"
          ]
        },
        {
          "name": "stdout",
          "output_type": "stream",
          "text": [
            "Ssim: 0.8044, Psnr: 20.7851\n",
            "\n",
            "Image 5/10 [1400_5.png]\n"
          ]
        },
        {
          "name": "stderr",
          "output_type": "stream",
          "text": [
            "100%|██████████| 512/512 [00:31<00:00, 16.44it/s, loss=0.163]\n"
          ]
        },
        {
          "name": "stdout",
          "output_type": "stream",
          "text": [
            "Ssim: 0.7845, Psnr: 15.2045\n",
            "\n",
            "Image 6/10 [1415_5.png]\n"
          ]
        },
        {
          "name": "stderr",
          "output_type": "stream",
          "text": [
            "100%|██████████| 512/512 [00:30<00:00, 16.63it/s, loss=0.12] \n"
          ]
        },
        {
          "name": "stdout",
          "output_type": "stream",
          "text": [
            "Ssim: 0.9105, Psnr: 22.2110\n",
            "\n",
            "Image 7/10 [1445_5.png]\n"
          ]
        },
        {
          "name": "stderr",
          "output_type": "stream",
          "text": [
            "100%|██████████| 512/512 [00:31<00:00, 16.51it/s, loss=0.124]\n"
          ]
        },
        {
          "name": "stdout",
          "output_type": "stream",
          "text": [
            "Ssim: 0.8899, Psnr: 21.4312\n",
            "\n",
            "Image 8/10 [1435_5.png]\n"
          ]
        },
        {
          "name": "stderr",
          "output_type": "stream",
          "text": [
            "100%|██████████| 512/512 [00:31<00:00, 16.46it/s, loss=0.338]\n"
          ]
        },
        {
          "name": "stdout",
          "output_type": "stream",
          "text": [
            "Ssim: 0.8567, Psnr: 21.0872\n",
            "\n",
            "Image 9/10 [1425_5.png]\n"
          ]
        },
        {
          "name": "stderr",
          "output_type": "stream",
          "text": [
            "100%|██████████| 512/512 [00:30<00:00, 16.53it/s, loss=0.142]\n"
          ]
        },
        {
          "name": "stdout",
          "output_type": "stream",
          "text": [
            "Ssim: 0.7359, Psnr: 17.4262\n",
            "\n",
            "Image 10/10 [1420_5.png]\n"
          ]
        },
        {
          "name": "stderr",
          "output_type": "stream",
          "text": [
            "100%|██████████| 512/512 [00:31<00:00, 16.46it/s, loss=0.354]\n"
          ]
        },
        {
          "name": "stdout",
          "output_type": "stream",
          "text": [
            "Ssim: 0.7677, Psnr: 12.7352\n",
            "\n",
            "Mean SSIM: 0.8044904470443726\n",
            "Mean PSNR: 18.479269258750783\n",
            "Best SSIM: 1415_5.png\n",
            "Best PSNR: 1415_5.png\n"
          ]
        }
      ],
      "source": [
        "historial_dt3 = dehazing.fit(collection_dt3, epochs, 'd3/', learning_rate)\n",
        "get_information(historial_dt3, collection_dt3)"
      ]
    }
  ],
  "metadata": {
    "accelerator": "GPU",
    "colab": {
      "provenance": []
    },
    "gpuClass": "standard",
    "kernelspec": {
      "display_name": "Python 3",
      "name": "python3"
    },
    "language_info": {
      "codemirror_mode": {
        "name": "ipython",
        "version": 3
      },
      "file_extension": ".py",
      "mimetype": "text/x-python",
      "name": "python",
      "nbconvert_exporter": "python",
      "pygments_lexer": "ipython3",
      "version": "3.9.16"
    }
  },
  "nbformat": 4,
  "nbformat_minor": 0
}
