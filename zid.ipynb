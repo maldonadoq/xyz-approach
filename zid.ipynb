{
  "cells": [
    {
      "attachments": {},
      "cell_type": "markdown",
      "metadata": {
        "id": "Mk8RhiayBqd0"
      },
      "source": [
        "### Zid Network"
      ]
    },
    {
      "cell_type": "code",
      "execution_count": 1,
      "metadata": {
        "id": "rl2q89l-B5y9"
      },
      "outputs": [],
      "source": [
        "import torch\n",
        "import torch.nn as nn\n",
        "import torch.optim as optim\n",
        "\n",
        "from tqdm import tqdm\n",
        "from cv2.ximgproc import guidedFilter\n",
        "from skimage.metrics import structural_similarity as ssim\n",
        "from skimage.metrics import peak_signal_noise_ratio as psnr\n",
        "\n",
        "import numpy as np\n",
        "import sys\n",
        "\n",
        "sys.path.insert(0, '..')\n",
        "from utils.collection import HazeCollection\n",
        "from utils.network import VaeNet\n",
        "from utils.skip import Skip\n",
        "from utils.loss import StdLoss\n",
        "from utils.utils import get_atmosphere, torch_to_np, np_to_torch, save_image, get_information\n",
        "from utils.imresize import np_imresize"
      ]
    },
    {
      "attachments": {},
      "cell_type": "markdown",
      "metadata": {
        "id": "q92VdKEAC-rT"
      },
      "source": [
        "#### Collection"
      ]
    },
    {
      "cell_type": "code",
      "execution_count": 2,
      "metadata": {
        "id": "-SOJ0kJR5Vad"
      },
      "outputs": [],
      "source": [
        "haze_path_dt1 = \"/home/maldonadoq/Datasets/Reside/Standard/HSTS/synthetic/synthetic\"\n",
        "image_path_dt1 = \"/home/maldonadoq/Datasets/Reside/Standard/HSTS/synthetic/original\"\n",
        "\n",
        "haze_path_dt2 = \"/home/maldonadoq/Datasets/Reside/Standard/HSTS/real-world\"\n",
        "\n",
        "haze_path_dt3 = \"/home/maldonadoq/Datasets/Reside/Standard/SOTS/indoor/hazy_val\"\n",
        "image_path_dt3 = \"/home/maldonadoq/Datasets/Reside/Standard/SOTS/indoor/gt_val\""
      ]
    },
    {
      "cell_type": "code",
      "execution_count": 3,
      "metadata": {},
      "outputs": [],
      "source": [
        "size = 256\n",
        "channels = 3\n",
        "\n",
        "collection_dt1 = HazeCollection(haze_path_dt1, image_path_dt1)\n",
        "collection_dt2 = HazeCollection(haze_path_dt2)\n",
        "collection_dt3 = HazeCollection(haze_path_dt3, image_path_dt3)"
      ]
    },
    {
      "attachments": {},
      "cell_type": "markdown",
      "metadata": {
        "id": "P9-3KLGKDFUD"
      },
      "source": [
        "#### Model"
      ]
    },
    {
      "cell_type": "code",
      "execution_count": 4,
      "metadata": {},
      "outputs": [
        {
          "data": {
            "text/plain": [
              "torch.Size([1, 3, 256, 256])"
            ]
          },
          "execution_count": 4,
          "metadata": {},
          "output_type": "execute_result"
        }
      ],
      "source": [
        "# Skip\n",
        "un = Skip(\n",
        "    channels, 3,\n",
        "    num_channels_down=[8, 16, 32, 64, 128],\n",
        "    num_channels_up=[8, 16, 32, 64, 128],\n",
        "    num_channels_skip=[0, 0, 0, 4, 4],\n",
        "    upsample_mode='bilinear',\n",
        "    need_sigmoid=True, need_bias=True, pad='reflection'\n",
        ")\n",
        "\n",
        "x = torch.zeros([1, channels, size, size])\n",
        "a = un(x)\n",
        "a.shape"
      ]
    },
    {
      "attachments": {},
      "cell_type": "markdown",
      "metadata": {
        "id": "96AaXzvpFCHR"
      },
      "source": [
        "#### Training"
      ]
    },
    {
      "cell_type": "code",
      "execution_count": 5,
      "metadata": {
        "id": "DY3Dti5s5f6T"
      },
      "outputs": [],
      "source": [
        "class ZidTrainer:\n",
        "    def __init__(\n",
        "        self,\n",
        "        metrics=[]\n",
        "    ):\n",
        "        self.device = \"cuda\" if torch.cuda.is_available() else \"cpu\"\n",
        "        self.metrics = metrics\n",
        "\n",
        "    def init(self, image):\n",
        "        input_depth = 3\n",
        "        pad = 'reflection'\n",
        "        netJ = Skip(\n",
        "            input_depth, 3,\n",
        "            num_channels_down=[8, 16, 32, 64, 128],\n",
        "            num_channels_up=[8, 16, 32, 64, 128],\n",
        "            num_channels_skip=[0, 0, 0, 4, 4],\n",
        "            upsample_mode='bilinear',\n",
        "            need_sigmoid=True, need_bias=True, pad=pad\n",
        "        )\n",
        "\n",
        "        netT = Skip(\n",
        "            input_depth, 1,\n",
        "            num_channels_down=[8, 16, 32, 64, 128],\n",
        "            num_channels_up=[8, 16, 32, 64, 128],\n",
        "            num_channels_skip=[0, 0, 0, 4, 4],\n",
        "            upsample_mode='bilinear',\n",
        "            need_sigmoid=True, need_bias=True, pad=pad\n",
        "        )\n",
        "\n",
        "        self.model = {\n",
        "            \"netJ\": netJ.to(self.device),\n",
        "            \"netT\": netT.to(self.device),\n",
        "            \"netA\": VaeNet(image.shape).to(self.device)\n",
        "        }\n",
        "        self.loss = {\n",
        "            \"mse\": nn.MSELoss().to(self.device),\n",
        "            \"std\": StdLoss().to(self.device)\n",
        "        }\n",
        "\n",
        "        atmosphere = get_atmosphere(image)\n",
        "        self.valA = nn.Parameter(data=torch.cuda.FloatTensor(\n",
        "            atmosphere.reshape((1, 3, 1, 1))), requires_grad=False)\n",
        "\n",
        "        parameters = [p for p in self.model[\"netJ\"].parameters()]\n",
        "        parameters += [p for p in self.model[\"netT\"].parameters()]\n",
        "        parameters += [p for p in self.model[\"netA\"].parameters()]\n",
        "\n",
        "        self.optimizer = optim.Adam(\n",
        "            parameters,\n",
        "            lr=self.learning_rate\n",
        "        )\n",
        "\n",
        "    def t_matting(self, mask_out_np, original):\n",
        "        refine_t = guidedFilter(original.transpose(1, 2, 0).astype(\n",
        "            np.float32), mask_out_np[0].astype(np.float32), 50, 1e-4)\n",
        "        return np.array([np.clip(refine_t, 0.1, 1)])\n",
        "\n",
        "    def train(self, information, epochs):\n",
        "        (haze, image, name) = information\n",
        "        self.init(haze)\n",
        "        loop = tqdm(range(epochs))\n",
        "\n",
        "        losses = []\n",
        "        lossFinal = None\n",
        "\n",
        "        hazeTorch = np_to_torch(haze)\n",
        "        hazeTorch = hazeTorch.to(device=self.device)\n",
        "        for i in loop:\n",
        "            # forward\n",
        "            predT = self.model[\"netT\"](hazeTorch)\n",
        "            predJ = self.model[\"netJ\"](hazeTorch)\n",
        "            predA = self.model[\"netA\"](hazeTorch)\n",
        "\n",
        "            lossT = self.loss[\"std\"](predT)\n",
        "            lossJ = self.loss[\"mse\"](predT * predJ + (1 - predT) * predA, hazeTorch)\n",
        "            lossA = self.model[\"netA\"].getLoss()\n",
        "\n",
        "            dcp_prior = torch.min(predJ.permute(0, 2, 3, 1), 3)[0]\n",
        "            dcp_loss = self.loss[\"mse\"](dcp_prior, torch.zeros_like(dcp_prior)) - 0.05\n",
        "\n",
        "            lossFinal = lossJ + lossA\n",
        "            lossFinal += 0.005 * lossT\n",
        "            lossFinal += dcp_loss\n",
        "            \n",
        "            lossFinal += 0.1 * self.loss[\"std\"](predA)\n",
        "            lossFinal += self.loss[\"mse\"](predA, self.valA * torch.ones_like(predA))\n",
        "\n",
        "            #if i % 100 == 0 or i == epochs-1:\n",
        "            if i == epochs-1:\n",
        "                imageJ = np.clip(torch_to_np(predJ), 0, 1)\n",
        "                imageT = np.clip(torch_to_np(predT), 0, 1)\n",
        "                imageA = np.clip(torch_to_np(predA), 0, 1)\n",
        "                imageT = self.t_matting(imageT, haze)\n",
        "\n",
        "                # I(x) = J(x)t(x) + A(1 − t(x))\n",
        "                post = np.clip((haze - ((1 - imageT) * imageA)) / imageT, 0, 1)\n",
        "                post = np_imresize(post, output_shape=haze.shape[1:])\n",
        "                save_image('{}_{}'.format(name[0].split('.')[0], i+1), post, '../images/zid/' + self.dt_number)\n",
        "\n",
        "            # backward\n",
        "            self.optimizer.zero_grad()\n",
        "            lossFinal.backward(retain_graph=True)\n",
        "            self.optimizer.step()\n",
        "\n",
        "            # update tqdm\n",
        "            loop.set_postfix(loss=lossFinal.item())\n",
        "            losses.append(lossFinal.item())\n",
        "\n",
        "        # metrics\n",
        "        finalSSIM, finalPSNR = 0, 0\n",
        "        if image is not None:\n",
        "            finalSSIM = ssim(post, image, channel_axis=0, data_range=1)\n",
        "            finalPSNR = psnr(post, image)\n",
        "            print(\"Ssim: {:.4f}, Psnr: {:.4f}\\n\".format(finalSSIM, finalPSNR))\n",
        "\n",
        "        return [np.sum(losses)/len(losses), finalSSIM, finalPSNR]\n",
        "\n",
        "    def fit(\n",
        "        self,\n",
        "        collection,\n",
        "        epochs=1,\n",
        "        dt_number='',\n",
        "        learning_rate=1e-3\n",
        "    ):\n",
        "        historial = []\n",
        "        self.dt_number = dt_number\n",
        "        self.learning_rate = learning_rate\n",
        "        #loop = enumerate(tqdm(collection))\n",
        "        for i, info in enumerate(collection):\n",
        "            print('Image {}/{} [{}]'.format(i+1, len(collection), info[2][0]))\n",
        "            loss, ssim, psnr = self.train(info, epochs)\n",
        "            historial.append([loss, ssim, psnr])\n",
        "        return historial"
      ]
    },
    {
      "cell_type": "code",
      "execution_count": 6,
      "metadata": {},
      "outputs": [],
      "source": [
        "dehazing = ZidTrainer()"
      ]
    },
    {
      "attachments": {},
      "cell_type": "markdown",
      "metadata": {},
      "source": [
        "#### Testing"
      ]
    },
    {
      "cell_type": "code",
      "execution_count": 7,
      "metadata": {},
      "outputs": [],
      "source": [
        "epochs = 512\n",
        "learning_rate = 1e-4"
      ]
    },
    {
      "cell_type": "markdown",
      "metadata": {},
      "source": [
        "##### D1"
      ]
    },
    {
      "cell_type": "code",
      "execution_count": 8,
      "metadata": {},
      "outputs": [
        {
          "name": "stdout",
          "output_type": "stream",
          "text": [
            "Image 1/10 [1381.jpg]\n"
          ]
        },
        {
          "name": "stderr",
          "output_type": "stream",
          "text": [
            "100%|██████████| 512/512 [00:34<00:00, 14.71it/s, loss=0.000815]\n"
          ]
        },
        {
          "name": "stdout",
          "output_type": "stream",
          "text": [
            "Ssim: 0.6752, Psnr: 13.0089\n",
            "\n",
            "Image 2/10 [5576.jpg]\n"
          ]
        },
        {
          "name": "stderr",
          "output_type": "stream",
          "text": [
            "100%|██████████| 512/512 [00:26<00:00, 19.12it/s, loss=-.0013]  \n"
          ]
        },
        {
          "name": "stdout",
          "output_type": "stream",
          "text": [
            "Ssim: 0.7034, Psnr: 17.0090\n",
            "\n",
            "Image 3/10 [7471.jpg]\n"
          ]
        },
        {
          "name": "stderr",
          "output_type": "stream",
          "text": [
            "100%|██████████| 512/512 [00:29<00:00, 17.21it/s, loss=0.0382]\n"
          ]
        },
        {
          "name": "stdout",
          "output_type": "stream",
          "text": [
            "Ssim: 0.8683, Psnr: 19.6908\n",
            "\n",
            "Image 4/10 [0586.jpg]\n"
          ]
        },
        {
          "name": "stderr",
          "output_type": "stream",
          "text": [
            "100%|██████████| 512/512 [00:35<00:00, 14.27it/s, loss=0.135]\n"
          ]
        },
        {
          "name": "stdout",
          "output_type": "stream",
          "text": [
            "Ssim: 0.7487, Psnr: 12.3101\n",
            "\n",
            "Image 5/10 [5920.jpg]\n"
          ]
        },
        {
          "name": "stderr",
          "output_type": "stream",
          "text": [
            "100%|██████████| 512/512 [00:35<00:00, 14.34it/s, loss=0.0365]\n"
          ]
        },
        {
          "name": "stdout",
          "output_type": "stream",
          "text": [
            "Ssim: 0.9342, Psnr: 23.9943\n",
            "\n",
            "Image 6/10 [3146.jpg]\n"
          ]
        },
        {
          "name": "stderr",
          "output_type": "stream",
          "text": [
            "100%|██████████| 512/512 [00:27<00:00, 18.85it/s, loss=0.0412]\n"
          ]
        },
        {
          "name": "stdout",
          "output_type": "stream",
          "text": [
            "Ssim: 0.7321, Psnr: 18.8292\n",
            "\n",
            "Image 7/10 [4184.jpg]\n"
          ]
        },
        {
          "name": "stderr",
          "output_type": "stream",
          "text": [
            "100%|██████████| 512/512 [00:40<00:00, 12.51it/s, loss=0.0222]\n"
          ]
        },
        {
          "name": "stdout",
          "output_type": "stream",
          "text": [
            "Ssim: 0.8059, Psnr: 18.0182\n",
            "\n",
            "Image 8/10 [8180.jpg]\n"
          ]
        },
        {
          "name": "stderr",
          "output_type": "stream",
          "text": [
            "100%|██████████| 512/512 [00:30<00:00, 16.99it/s, loss=0.0105]\n"
          ]
        },
        {
          "name": "stdout",
          "output_type": "stream",
          "text": [
            "Ssim: 0.8711, Psnr: 20.4244\n",
            "\n",
            "Image 9/10 [1352.jpg]\n"
          ]
        },
        {
          "name": "stderr",
          "output_type": "stream",
          "text": [
            "100%|██████████| 512/512 [01:08<00:00,  7.50it/s, loss=0.0114]\n"
          ]
        },
        {
          "name": "stdout",
          "output_type": "stream",
          "text": [
            "Ssim: 0.9512, Psnr: 23.2605\n",
            "\n",
            "Image 10/10 [4561.jpg]\n"
          ]
        },
        {
          "name": "stderr",
          "output_type": "stream",
          "text": [
            "100%|██████████| 512/512 [00:27<00:00, 18.43it/s, loss=0.0332]"
          ]
        },
        {
          "name": "stdout",
          "output_type": "stream",
          "text": [
            "Ssim: 0.7164, Psnr: 19.4504\n",
            "\n",
            "Mean SSIM: 0.8006464540958405\n",
            "Mean PSNR: 18.59956848950961\n",
            "Best SSIM: 1352.jpg\n",
            "Best PSNR: 5920.jpg\n"
          ]
        },
        {
          "name": "stderr",
          "output_type": "stream",
          "text": [
            "\n"
          ]
        }
      ],
      "source": [
        "historial_dt1 = dehazing.fit(collection_dt1, epochs, 'd1/', learning_rate)\n",
        "get_information(historial_dt1, collection_dt1)"
      ]
    },
    {
      "cell_type": "markdown",
      "metadata": {},
      "source": [
        "##### D2"
      ]
    },
    {
      "cell_type": "code",
      "execution_count": 9,
      "metadata": {},
      "outputs": [
        {
          "name": "stdout",
          "output_type": "stream",
          "text": [
            "Image 1/10 [SFC_Google_197.jpeg]\n"
          ]
        },
        {
          "name": "stderr",
          "output_type": "stream",
          "text": [
            "100%|██████████| 512/512 [00:51<00:00,  9.87it/s, loss=0.0192]\n"
          ]
        },
        {
          "name": "stdout",
          "output_type": "stream",
          "text": [
            "Image 2/10 [MLS_Bing_117.jpeg]\n"
          ]
        },
        {
          "name": "stderr",
          "output_type": "stream",
          "text": [
            "100%|██████████| 512/512 [01:01<00:00,  8.35it/s, loss=0.000864]\n"
          ]
        },
        {
          "name": "stdout",
          "output_type": "stream",
          "text": [
            "Image 3/10 [HazyDr_Google_396.jpeg]\n"
          ]
        },
        {
          "name": "stderr",
          "output_type": "stream",
          "text": [
            "100%|██████████| 512/512 [00:56<00:00,  9.05it/s, loss=0.0133]\n"
          ]
        },
        {
          "name": "stdout",
          "output_type": "stream",
          "text": [
            "Image 4/10 [SGP_Bing_085.jpeg]\n"
          ]
        },
        {
          "name": "stderr",
          "output_type": "stream",
          "text": [
            "100%|██████████| 512/512 [02:30<00:00,  3.41it/s, loss=0.0463]\n"
          ]
        },
        {
          "name": "stdout",
          "output_type": "stream",
          "text": [
            "Image 5/10 [NW_Google_837.jpeg]\n"
          ]
        },
        {
          "name": "stderr",
          "output_type": "stream",
          "text": [
            "100%|██████████| 512/512 [00:51<00:00,  9.90it/s, loss=0.0279]\n"
          ]
        },
        {
          "name": "stdout",
          "output_type": "stream",
          "text": [
            "Image 6/10 [YST_Bing_667.jpeg]\n"
          ]
        },
        {
          "name": "stderr",
          "output_type": "stream",
          "text": [
            "100%|██████████| 512/512 [01:01<00:00,  8.33it/s, loss=0.0949]\n"
          ]
        },
        {
          "name": "stdout",
          "output_type": "stream",
          "text": [
            "Image 7/10 [MLS_Google_585.png]\n"
          ]
        },
        {
          "name": "stderr",
          "output_type": "stream",
          "text": [
            "100%|██████████| 512/512 [01:50<00:00,  4.63it/s, loss=0.0476]\n"
          ]
        },
        {
          "name": "stdout",
          "output_type": "stream",
          "text": [
            "Image 8/10 [SGP_Bing_588.png]\n"
          ]
        },
        {
          "name": "stderr",
          "output_type": "stream",
          "text": [
            "100%|██████████| 512/512 [01:01<00:00,  8.33it/s, loss=0.0174]\n"
          ]
        },
        {
          "name": "stdout",
          "output_type": "stream",
          "text": [
            "Image 9/10 [KRO_Google_143.jpeg]\n"
          ]
        },
        {
          "name": "stderr",
          "output_type": "stream",
          "text": [
            "100%|██████████| 512/512 [01:01<00:00,  8.34it/s, loss=0.0241]\n"
          ]
        },
        {
          "name": "stdout",
          "output_type": "stream",
          "text": [
            "Image 10/10 [HazeDr_Google_404.jpeg]\n"
          ]
        },
        {
          "name": "stderr",
          "output_type": "stream",
          "text": [
            "100%|██████████| 512/512 [02:11<00:00,  3.88it/s, loss=0.143]"
          ]
        },
        {
          "name": "stdout",
          "output_type": "stream",
          "text": [
            "Mean SSIM: 0.0\n",
            "Mean PSNR: 0.0\n",
            "Best SSIM: SFC_Google_197.jpeg\n",
            "Best PSNR: SFC_Google_197.jpeg\n"
          ]
        },
        {
          "name": "stderr",
          "output_type": "stream",
          "text": [
            "\n"
          ]
        }
      ],
      "source": [
        "historial_dt2 = dehazing.fit(collection_dt2, epochs, 'd2/', learning_rate)\n",
        "get_information(historial_dt2, collection_dt2)"
      ]
    },
    {
      "cell_type": "markdown",
      "metadata": {},
      "source": [
        "##### D3"
      ]
    },
    {
      "cell_type": "code",
      "execution_count": 10,
      "metadata": {},
      "outputs": [
        {
          "name": "stdout",
          "output_type": "stream",
          "text": [
            "Image 1/10 [1410_5.png]\n"
          ]
        },
        {
          "name": "stderr",
          "output_type": "stream",
          "text": [
            "100%|██████████| 512/512 [00:46<00:00, 11.03it/s, loss=0.0255]\n"
          ]
        },
        {
          "name": "stdout",
          "output_type": "stream",
          "text": [
            "Ssim: 0.8560, Psnr: 17.9021\n",
            "\n",
            "Image 2/10 [1430_5.png]\n"
          ]
        },
        {
          "name": "stderr",
          "output_type": "stream",
          "text": [
            "100%|██████████| 512/512 [00:45<00:00, 11.13it/s, loss=0.108]\n"
          ]
        },
        {
          "name": "stdout",
          "output_type": "stream",
          "text": [
            "Ssim: 0.4818, Psnr: 16.1625\n",
            "\n",
            "Image 3/10 [1440_5.png]\n"
          ]
        },
        {
          "name": "stderr",
          "output_type": "stream",
          "text": [
            "100%|██████████| 512/512 [00:45<00:00, 11.26it/s, loss=0.0217]\n"
          ]
        },
        {
          "name": "stdout",
          "output_type": "stream",
          "text": [
            "Ssim: 0.8391, Psnr: 16.6056\n",
            "\n",
            "Image 4/10 [1405_5.png]\n"
          ]
        },
        {
          "name": "stderr",
          "output_type": "stream",
          "text": [
            "100%|██████████| 512/512 [00:44<00:00, 11.39it/s, loss=0.0402]\n"
          ]
        },
        {
          "name": "stdout",
          "output_type": "stream",
          "text": [
            "Ssim: 0.8805, Psnr: 20.1874\n",
            "\n",
            "Image 5/10 [1400_5.png]\n"
          ]
        },
        {
          "name": "stderr",
          "output_type": "stream",
          "text": [
            "100%|██████████| 512/512 [00:45<00:00, 11.33it/s, loss=0.0391]\n"
          ]
        },
        {
          "name": "stdout",
          "output_type": "stream",
          "text": [
            "Ssim: 0.7983, Psnr: 17.6596\n",
            "\n",
            "Image 6/10 [1415_5.png]\n"
          ]
        },
        {
          "name": "stderr",
          "output_type": "stream",
          "text": [
            "100%|██████████| 512/512 [00:45<00:00, 11.27it/s, loss=0.0397]\n"
          ]
        },
        {
          "name": "stdout",
          "output_type": "stream",
          "text": [
            "Ssim: 0.8443, Psnr: 20.1377\n",
            "\n",
            "Image 7/10 [1445_5.png]\n"
          ]
        },
        {
          "name": "stderr",
          "output_type": "stream",
          "text": [
            "100%|██████████| 512/512 [00:45<00:00, 11.29it/s, loss=0.0556]\n"
          ]
        },
        {
          "name": "stdout",
          "output_type": "stream",
          "text": [
            "Ssim: 0.8280, Psnr: 21.2616\n",
            "\n",
            "Image 8/10 [1435_5.png]\n"
          ]
        },
        {
          "name": "stderr",
          "output_type": "stream",
          "text": [
            "100%|██████████| 512/512 [00:45<00:00, 11.31it/s, loss=0.013] \n"
          ]
        },
        {
          "name": "stdout",
          "output_type": "stream",
          "text": [
            "Ssim: 0.8399, Psnr: 19.2470\n",
            "\n",
            "Image 9/10 [1425_5.png]\n"
          ]
        },
        {
          "name": "stderr",
          "output_type": "stream",
          "text": [
            "100%|██████████| 512/512 [00:45<00:00, 11.30it/s, loss=0.0282]\n"
          ]
        },
        {
          "name": "stdout",
          "output_type": "stream",
          "text": [
            "Ssim: 0.7318, Psnr: 14.1651\n",
            "\n",
            "Image 10/10 [1420_5.png]\n"
          ]
        },
        {
          "name": "stderr",
          "output_type": "stream",
          "text": [
            "100%|██████████| 512/512 [00:45<00:00, 11.32it/s, loss=0.0405]\n"
          ]
        },
        {
          "name": "stdout",
          "output_type": "stream",
          "text": [
            "Ssim: 0.8119, Psnr: 16.4296\n",
            "\n",
            "Mean SSIM: 0.791169810295105\n",
            "Mean PSNR: 17.975829057953593\n",
            "Best SSIM: 1405_5.png\n",
            "Best PSNR: 1445_5.png\n"
          ]
        }
      ],
      "source": [
        "historial_dt3 = dehazing.fit(collection_dt3, epochs, 'd3/', learning_rate)\n",
        "get_information(historial_dt3, collection_dt3)"
      ]
    }
  ],
  "metadata": {
    "accelerator": "GPU",
    "colab": {
      "provenance": []
    },
    "gpuClass": "standard",
    "kernelspec": {
      "display_name": "Python 3",
      "name": "python3"
    },
    "language_info": {
      "codemirror_mode": {
        "name": "ipython",
        "version": 3
      },
      "file_extension": ".py",
      "mimetype": "text/x-python",
      "name": "python",
      "nbconvert_exporter": "python",
      "pygments_lexer": "ipython3",
      "version": "3.9.16"
    }
  },
  "nbformat": 4,
  "nbformat_minor": 0
}
