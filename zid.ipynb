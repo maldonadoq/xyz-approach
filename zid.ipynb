{
  "cells": [
    {
      "attachments": {},
      "cell_type": "markdown",
      "metadata": {
        "id": "Mk8RhiayBqd0"
      },
      "source": [
        "### Zid Network"
      ]
    },
    {
      "cell_type": "code",
      "execution_count": 1,
      "metadata": {
        "id": "rl2q89l-B5y9"
      },
      "outputs": [],
      "source": [
        "import torch\n",
        "import torch.nn as nn\n",
        "import torch.optim as optim\n",
        "\n",
        "from tqdm import tqdm\n",
        "from cv2.ximgproc import guidedFilter\n",
        "from skimage.metrics import structural_similarity as ssim\n",
        "from skimage.metrics import peak_signal_noise_ratio as psnr\n",
        "\n",
        "import numpy as np\n",
        "import sys\n",
        "\n",
        "from utils.collection import HazeCollection\n",
        "from utils.network import VaeNet\n",
        "from utils.skip import Skip\n",
        "from utils.loss import StdLoss\n",
        "from utils.utils import get_atmosphere, torch_to_np, np_to_torch, save_image, get_information\n",
        "from utils.imresize import np_imresize"
      ]
    },
    {
      "attachments": {},
      "cell_type": "markdown",
      "metadata": {
        "id": "q92VdKEAC-rT"
      },
      "source": [
        "#### Collection"
      ]
    },
    {
      "cell_type": "code",
      "execution_count": 2,
      "metadata": {
        "id": "-SOJ0kJR5Vad"
      },
      "outputs": [],
      "source": [
        "haze_path_dt1 = \"/home/maldonadoq/Datasets/Reside/Standard/HSTS/synthetic/synthetic\"\n",
        "image_path_dt1 = \"/home/maldonadoq/Datasets/Reside/Standard/HSTS/synthetic/original\"\n",
        "\n",
        "haze_path_dt2 = \"/home/maldonadoq/Datasets/Reside/Standard/HSTS/real-world\"\n",
        "\n",
        "haze_path_dt3 = \"/home/maldonadoq/Datasets/Reside/Standard/SOTS/indoor/hazy_val\"\n",
        "image_path_dt3 = \"/home/maldonadoq/Datasets/Reside/Standard/SOTS/indoor/gt_val\""
      ]
    },
    {
      "cell_type": "code",
      "execution_count": 3,
      "metadata": {},
      "outputs": [],
      "source": [
        "size = 256\n",
        "channels = 3\n",
        "\n",
        "collection_dt1 = HazeCollection(haze_path_dt1, image_path_dt1)\n",
        "collection_dt2 = HazeCollection(haze_path_dt2)\n",
        "collection_dt3 = HazeCollection(haze_path_dt3, image_path_dt3)"
      ]
    },
    {
      "attachments": {},
      "cell_type": "markdown",
      "metadata": {
        "id": "P9-3KLGKDFUD"
      },
      "source": [
        "#### Model"
      ]
    },
    {
      "cell_type": "code",
      "execution_count": 4,
      "metadata": {},
      "outputs": [
        {
          "data": {
            "text/plain": [
              "torch.Size([1, 3, 256, 256])"
            ]
          },
          "execution_count": 4,
          "metadata": {},
          "output_type": "execute_result"
        }
      ],
      "source": [
        "# Skip\n",
        "un = Skip(\n",
        "    channels, 3,\n",
        "    num_channels_down=[8, 16, 32, 64, 128],\n",
        "    num_channels_up=[8, 16, 32, 64, 128],\n",
        "    num_channels_skip=[0, 0, 0, 4, 4],\n",
        "    upsample_mode='bilinear',\n",
        "    need_sigmoid=True, need_bias=True, pad='reflection'\n",
        ")\n",
        "\n",
        "x = torch.zeros([1, channels, size, size])\n",
        "a = un(x)\n",
        "a.shape"
      ]
    },
    {
      "attachments": {},
      "cell_type": "markdown",
      "metadata": {
        "id": "96AaXzvpFCHR"
      },
      "source": [
        "#### Training"
      ]
    },
    {
      "cell_type": "code",
      "execution_count": 5,
      "metadata": {
        "id": "DY3Dti5s5f6T"
      },
      "outputs": [],
      "source": [
        "class ZidTrainer:\n",
        "    def __init__(\n",
        "        self,\n",
        "        metrics=[]\n",
        "    ):\n",
        "        self.device = \"cuda\" if torch.cuda.is_available() else \"cpu\"\n",
        "        self.metrics = metrics\n",
        "\n",
        "    def init(self, image):\n",
        "        input_depth = 3\n",
        "        pad = 'reflection'\n",
        "        netJ = Skip(\n",
        "            input_depth, 3,\n",
        "            num_channels_down=[8, 16, 32, 64, 128],\n",
        "            num_channels_up=[8, 16, 32, 64, 128],\n",
        "            num_channels_skip=[0, 0, 0, 4, 4],\n",
        "            upsample_mode='bilinear',\n",
        "            need_sigmoid=True, need_bias=True, pad=pad\n",
        "        )\n",
        "\n",
        "        netT = Skip(\n",
        "            input_depth, 1,\n",
        "            num_channels_down=[8, 16, 32, 64, 128],\n",
        "            num_channels_up=[8, 16, 32, 64, 128],\n",
        "            num_channels_skip=[0, 0, 0, 4, 4],\n",
        "            upsample_mode='bilinear',\n",
        "            need_sigmoid=True, need_bias=True, pad=pad\n",
        "        )\n",
        "\n",
        "        self.model = {\n",
        "            \"netJ\": netJ.to(self.device),\n",
        "            \"netT\": netT.to(self.device),\n",
        "            \"netA\": VaeNet(image.shape).to(self.device)\n",
        "        }\n",
        "        self.loss = {\n",
        "            \"mse\": nn.MSELoss().to(self.device),\n",
        "            \"std\": StdLoss().to(self.device)\n",
        "        }\n",
        "\n",
        "        atmosphere = get_atmosphere(image)\n",
        "        self.valA = nn.Parameter(data=torch.cuda.FloatTensor(\n",
        "            atmosphere.reshape((1, 3, 1, 1))), requires_grad=False)\n",
        "\n",
        "        parameters = [p for p in self.model[\"netJ\"].parameters()]\n",
        "        parameters += [p for p in self.model[\"netT\"].parameters()]\n",
        "        parameters += [p for p in self.model[\"netA\"].parameters()]\n",
        "\n",
        "        self.optimizer = optim.Adam(\n",
        "            parameters,\n",
        "            lr=self.learning_rate\n",
        "        )\n",
        "\n",
        "    def t_matting(self, mask_out_np, original):\n",
        "        refine_t = guidedFilter(original.transpose(1, 2, 0).astype(\n",
        "            np.float32), mask_out_np[0].astype(np.float32), 50, 1e-4)\n",
        "        return np.array([np.clip(refine_t, 0.1, 1)])\n",
        "\n",
        "    def train(self, information, epochs):\n",
        "        (haze, image, name) = information\n",
        "        self.init(haze)\n",
        "        loop = tqdm(range(epochs))\n",
        "\n",
        "        losses = []\n",
        "        lossFinal = None\n",
        "\n",
        "        hazeTorch = np_to_torch(haze)\n",
        "        hazeTorch = hazeTorch.to(device=self.device)\n",
        "        for i in loop:\n",
        "            # forward\n",
        "            predT = self.model[\"netT\"](hazeTorch)\n",
        "            predJ = self.model[\"netJ\"](hazeTorch)\n",
        "            predA = self.model[\"netA\"](hazeTorch)\n",
        "\n",
        "            lossT = self.loss[\"std\"](predT)\n",
        "            lossJ = self.loss[\"mse\"](predT * predJ + (1 - predT) * predA, hazeTorch)\n",
        "            lossA = self.model[\"netA\"].getLoss()\n",
        "\n",
        "            dcp_prior = torch.min(predJ.permute(0, 2, 3, 1), 3)[0]\n",
        "            dcp_loss = self.loss[\"mse\"](dcp_prior, torch.zeros_like(dcp_prior)) - 0.05\n",
        "\n",
        "            lossFinal = lossJ + lossA\n",
        "            lossFinal += 0.005 * lossT\n",
        "            lossFinal += dcp_loss\n",
        "            \n",
        "            lossFinal += 0.1 * self.loss[\"std\"](predA)\n",
        "            lossFinal += self.loss[\"mse\"](predA, self.valA * torch.ones_like(predA))\n",
        "\n",
        "            #if i % 100 == 0 or i == epochs-1:\n",
        "            if i == epochs-1:\n",
        "                imageJ = np.clip(torch_to_np(predJ), 0, 1)\n",
        "                imageT = np.clip(torch_to_np(predT), 0, 1)\n",
        "                imageA = np.clip(torch_to_np(predA), 0, 1)\n",
        "                imageT = self.t_matting(imageT, haze)\n",
        "\n",
        "                # I(x) = J(x)t(x) + A(1 − t(x))\n",
        "                post = np.clip((haze - ((1 - imageT) * imageA)) / imageT, 0, 1)\n",
        "                post = np_imresize(post, output_shape=haze.shape[1:])\n",
        "                save_image('{}_{}'.format(name[0].split('.')[0], i+1), post, './images/zid/' + self.dt_number)\n",
        "\n",
        "            # backward\n",
        "            self.optimizer.zero_grad()\n",
        "            lossFinal.backward(retain_graph=True)\n",
        "            self.optimizer.step()\n",
        "\n",
        "            # update tqdm\n",
        "            loop.set_postfix(loss=lossFinal.item())\n",
        "            losses.append(lossFinal.item())\n",
        "\n",
        "        # metrics\n",
        "        finalSSIM, finalPSNR = 0, 0\n",
        "        if image is not None:\n",
        "            finalSSIM = ssim(post, image, channel_axis=0, data_range=1)\n",
        "            finalPSNR = psnr(post, image)\n",
        "            print(\"Ssim: {:.4f}, Psnr: {:.4f}\\n\".format(finalSSIM, finalPSNR))\n",
        "\n",
        "        return [np.sum(losses)/len(losses), finalSSIM, finalPSNR]\n",
        "\n",
        "    def fit(\n",
        "        self,\n",
        "        collection,\n",
        "        epochs=1,\n",
        "        dt_number='',\n",
        "        learning_rate=1e-3\n",
        "    ):\n",
        "        historial = []\n",
        "        self.dt_number = dt_number\n",
        "        self.learning_rate = learning_rate\n",
        "        #loop = enumerate(tqdm(collection))\n",
        "        for i, info in enumerate(collection):\n",
        "            print('Image {}/{} [{}]'.format(i+1, len(collection), info[2][0]))\n",
        "            loss, ssim, psnr = self.train(info, epochs)\n",
        "            historial.append([loss, ssim, psnr])\n",
        "        return historial"
      ]
    },
    {
      "cell_type": "code",
      "execution_count": 6,
      "metadata": {},
      "outputs": [],
      "source": [
        "dehazing = ZidTrainer()"
      ]
    },
    {
      "attachments": {},
      "cell_type": "markdown",
      "metadata": {},
      "source": [
        "#### Testing"
      ]
    },
    {
      "cell_type": "code",
      "execution_count": 7,
      "metadata": {},
      "outputs": [],
      "source": [
        "epochs = 512\n",
        "learning_rate = 1e-4"
      ]
    },
    {
      "cell_type": "markdown",
      "metadata": {},
      "source": [
        "##### D1"
      ]
    },
    {
      "cell_type": "code",
      "execution_count": 8,
      "metadata": {},
      "outputs": [
        {
          "name": "stdout",
          "output_type": "stream",
          "text": [
            "Image 1/10 [1381.jpg]\n"
          ]
        },
        {
          "name": "stderr",
          "output_type": "stream",
          "text": [
            "100%|██████████| 512/512 [00:33<00:00, 15.36it/s, loss=0.0157]\n"
          ]
        },
        {
          "name": "stdout",
          "output_type": "stream",
          "text": [
            "Ssim: 0.6570, Psnr: 12.5898\n",
            "\n",
            "Image 2/10 [5576.jpg]\n"
          ]
        },
        {
          "name": "stderr",
          "output_type": "stream",
          "text": [
            "100%|██████████| 512/512 [00:26<00:00, 19.68it/s, loss=0.0397]\n"
          ]
        },
        {
          "name": "stdout",
          "output_type": "stream",
          "text": [
            "Ssim: 0.6823, Psnr: 17.0888\n",
            "\n",
            "Image 3/10 [7471.jpg]\n"
          ]
        },
        {
          "name": "stderr",
          "output_type": "stream",
          "text": [
            "100%|██████████| 512/512 [00:29<00:00, 17.63it/s, loss=0.0417]\n"
          ]
        },
        {
          "name": "stdout",
          "output_type": "stream",
          "text": [
            "Ssim: 0.7017, Psnr: 16.3281\n",
            "\n",
            "Image 4/10 [0586.jpg]\n"
          ]
        },
        {
          "name": "stderr",
          "output_type": "stream",
          "text": [
            "100%|██████████| 512/512 [00:35<00:00, 14.41it/s, loss=0.0391]\n"
          ]
        },
        {
          "name": "stdout",
          "output_type": "stream",
          "text": [
            "Ssim: 0.8923, Psnr: 17.9030\n",
            "\n",
            "Image 5/10 [5920.jpg]\n"
          ]
        },
        {
          "name": "stderr",
          "output_type": "stream",
          "text": [
            "100%|██████████| 512/512 [00:36<00:00, 14.04it/s, loss=0.0672]\n"
          ]
        },
        {
          "name": "stdout",
          "output_type": "stream",
          "text": [
            "Ssim: 0.7093, Psnr: 14.2963\n",
            "\n",
            "Image 6/10 [3146.jpg]\n"
          ]
        },
        {
          "name": "stderr",
          "output_type": "stream",
          "text": [
            "100%|██████████| 512/512 [00:27<00:00, 18.47it/s, loss=0.034] \n"
          ]
        },
        {
          "name": "stdout",
          "output_type": "stream",
          "text": [
            "Ssim: 0.7324, Psnr: 18.7547\n",
            "\n",
            "Image 7/10 [4184.jpg]\n"
          ]
        },
        {
          "name": "stderr",
          "output_type": "stream",
          "text": [
            "100%|██████████| 512/512 [00:42<00:00, 11.95it/s, loss=0.0626]\n"
          ]
        },
        {
          "name": "stdout",
          "output_type": "stream",
          "text": [
            "Ssim: 0.7908, Psnr: 16.7002\n",
            "\n",
            "Image 8/10 [8180.jpg]\n"
          ]
        },
        {
          "name": "stderr",
          "output_type": "stream",
          "text": [
            "100%|██████████| 512/512 [00:30<00:00, 16.94it/s, loss=0.0197]\n"
          ]
        },
        {
          "name": "stdout",
          "output_type": "stream",
          "text": [
            "Ssim: 0.9148, Psnr: 22.2337\n",
            "\n",
            "Image 9/10 [1352.jpg]\n"
          ]
        },
        {
          "name": "stderr",
          "output_type": "stream",
          "text": [
            "100%|██████████| 512/512 [01:08<00:00,  7.47it/s, loss=0.00612]\n"
          ]
        },
        {
          "name": "stdout",
          "output_type": "stream",
          "text": [
            "Ssim: 0.7347, Psnr: 14.7210\n",
            "\n",
            "Image 10/10 [4561.jpg]\n"
          ]
        },
        {
          "name": "stderr",
          "output_type": "stream",
          "text": [
            "100%|██████████| 512/512 [00:26<00:00, 19.14it/s, loss=0.0453]"
          ]
        },
        {
          "name": "stdout",
          "output_type": "stream",
          "text": [
            "Ssim: 0.7668, Psnr: 20.1741\n",
            "\n",
            "Mean SSIM: 0.7582136929035187\n",
            "Mean PSNR: 17.078968472650416\n",
            "Best SSIM: 8180.jpg\n",
            "Best PSNR: 8180.jpg\n"
          ]
        },
        {
          "name": "stderr",
          "output_type": "stream",
          "text": [
            "\n"
          ]
        }
      ],
      "source": [
        "historial_dt1 = dehazing.fit(collection_dt1, epochs, 'd1/', learning_rate)\n",
        "get_information(historial_dt1, collection_dt1)"
      ]
    },
    {
      "cell_type": "markdown",
      "metadata": {},
      "source": [
        "##### D2"
      ]
    },
    {
      "cell_type": "code",
      "execution_count": 9,
      "metadata": {},
      "outputs": [
        {
          "name": "stdout",
          "output_type": "stream",
          "text": [
            "Image 1/10 [SFC_Google_197.jpeg]\n"
          ]
        },
        {
          "name": "stderr",
          "output_type": "stream",
          "text": [
            "  0%|          | 0/512 [00:00<?, ?it/s]"
          ]
        },
        {
          "name": "stderr",
          "output_type": "stream",
          "text": [
            "100%|██████████| 512/512 [00:50<00:00, 10.10it/s, loss=0.014] \n"
          ]
        },
        {
          "name": "stdout",
          "output_type": "stream",
          "text": [
            "Image 2/10 [MLS_Bing_117.jpeg]\n"
          ]
        },
        {
          "name": "stderr",
          "output_type": "stream",
          "text": [
            "100%|██████████| 512/512 [00:57<00:00,  8.88it/s, loss=0.0212]\n"
          ]
        },
        {
          "name": "stdout",
          "output_type": "stream",
          "text": [
            "Image 3/10 [HazyDr_Google_396.jpeg]\n"
          ]
        },
        {
          "name": "stderr",
          "output_type": "stream",
          "text": [
            "100%|██████████| 512/512 [00:53<00:00,  9.64it/s, loss=0.00838]\n"
          ]
        },
        {
          "name": "stdout",
          "output_type": "stream",
          "text": [
            "Image 4/10 [SGP_Bing_085.jpeg]\n"
          ]
        },
        {
          "name": "stderr",
          "output_type": "stream",
          "text": [
            "100%|██████████| 512/512 [02:20<00:00,  3.64it/s, loss=0.0365]\n"
          ]
        },
        {
          "name": "stdout",
          "output_type": "stream",
          "text": [
            "Image 5/10 [NW_Google_837.jpeg]\n"
          ]
        },
        {
          "name": "stderr",
          "output_type": "stream",
          "text": [
            "100%|██████████| 512/512 [00:49<00:00, 10.45it/s, loss=0.121]\n"
          ]
        },
        {
          "name": "stdout",
          "output_type": "stream",
          "text": [
            "Image 6/10 [YST_Bing_667.jpeg]\n"
          ]
        },
        {
          "name": "stderr",
          "output_type": "stream",
          "text": [
            "100%|██████████| 512/512 [00:56<00:00,  8.99it/s, loss=0.0343]\n"
          ]
        },
        {
          "name": "stdout",
          "output_type": "stream",
          "text": [
            "Image 7/10 [MLS_Google_585.png]\n"
          ]
        },
        {
          "name": "stderr",
          "output_type": "stream",
          "text": [
            "100%|██████████| 512/512 [01:42<00:00,  5.01it/s, loss=0.0654]\n"
          ]
        },
        {
          "name": "stdout",
          "output_type": "stream",
          "text": [
            "Image 8/10 [SGP_Bing_588.png]\n"
          ]
        },
        {
          "name": "stderr",
          "output_type": "stream",
          "text": [
            "100%|██████████| 512/512 [00:57<00:00,  8.91it/s, loss=0.0357]\n"
          ]
        },
        {
          "name": "stdout",
          "output_type": "stream",
          "text": [
            "Image 9/10 [KRO_Google_143.jpeg]\n"
          ]
        },
        {
          "name": "stderr",
          "output_type": "stream",
          "text": [
            "100%|██████████| 512/512 [00:56<00:00,  9.00it/s, loss=0.0262]\n"
          ]
        },
        {
          "name": "stdout",
          "output_type": "stream",
          "text": [
            "Image 10/10 [HazeDr_Google_404.jpeg]\n"
          ]
        },
        {
          "name": "stderr",
          "output_type": "stream",
          "text": [
            "100%|██████████| 512/512 [02:02<00:00,  4.17it/s, loss=0.103]"
          ]
        },
        {
          "name": "stdout",
          "output_type": "stream",
          "text": [
            "Mean SSIM: 0.0\n",
            "Mean PSNR: 0.0\n",
            "Best SSIM: SFC_Google_197.jpeg\n",
            "Best PSNR: SFC_Google_197.jpeg\n"
          ]
        },
        {
          "name": "stderr",
          "output_type": "stream",
          "text": [
            "\n"
          ]
        }
      ],
      "source": [
        "historial_dt2 = dehazing.fit(collection_dt2, epochs, 'd2/', learning_rate)\n",
        "get_information(historial_dt2, collection_dt2)"
      ]
    },
    {
      "cell_type": "markdown",
      "metadata": {},
      "source": [
        "##### D3"
      ]
    },
    {
      "cell_type": "code",
      "execution_count": 10,
      "metadata": {},
      "outputs": [
        {
          "name": "stdout",
          "output_type": "stream",
          "text": [
            "Image 1/10 [1410_5.png]\n"
          ]
        },
        {
          "name": "stderr",
          "output_type": "stream",
          "text": [
            "  1%|          | 4/512 [00:00<00:40, 12.44it/s, loss=0.77] "
          ]
        },
        {
          "name": "stderr",
          "output_type": "stream",
          "text": [
            "100%|██████████| 512/512 [00:43<00:00, 11.64it/s, loss=0.0489]\n"
          ]
        },
        {
          "name": "stdout",
          "output_type": "stream",
          "text": [
            "Ssim: 0.7944, Psnr: 16.1664\n",
            "\n",
            "Image 2/10 [1430_5.png]\n"
          ]
        },
        {
          "name": "stderr",
          "output_type": "stream",
          "text": [
            "100%|██████████| 512/512 [00:43<00:00, 11.74it/s, loss=-.00943] \n"
          ]
        },
        {
          "name": "stdout",
          "output_type": "stream",
          "text": [
            "Ssim: 0.5694, Psnr: 16.4345\n",
            "\n",
            "Image 3/10 [1440_5.png]\n"
          ]
        },
        {
          "name": "stderr",
          "output_type": "stream",
          "text": [
            "100%|██████████| 512/512 [00:43<00:00, 11.69it/s, loss=0.0103]\n"
          ]
        },
        {
          "name": "stdout",
          "output_type": "stream",
          "text": [
            "Ssim: 0.8322, Psnr: 19.1191\n",
            "\n",
            "Image 4/10 [1405_5.png]\n"
          ]
        },
        {
          "name": "stderr",
          "output_type": "stream",
          "text": [
            "100%|██████████| 512/512 [00:43<00:00, 11.65it/s, loss=0.024] \n"
          ]
        },
        {
          "name": "stdout",
          "output_type": "stream",
          "text": [
            "Ssim: 0.8815, Psnr: 20.8758\n",
            "\n",
            "Image 5/10 [1400_5.png]\n"
          ]
        },
        {
          "name": "stderr",
          "output_type": "stream",
          "text": [
            "100%|██████████| 512/512 [00:43<00:00, 11.69it/s, loss=0.0401]\n"
          ]
        },
        {
          "name": "stdout",
          "output_type": "stream",
          "text": [
            "Ssim: 0.7846, Psnr: 16.5361\n",
            "\n",
            "Image 6/10 [1415_5.png]\n"
          ]
        },
        {
          "name": "stderr",
          "output_type": "stream",
          "text": [
            "100%|██████████| 512/512 [00:43<00:00, 11.64it/s, loss=0.0333]\n"
          ]
        },
        {
          "name": "stdout",
          "output_type": "stream",
          "text": [
            "Ssim: 0.8596, Psnr: 20.5292\n",
            "\n",
            "Image 7/10 [1445_5.png]\n"
          ]
        },
        {
          "name": "stderr",
          "output_type": "stream",
          "text": [
            "100%|██████████| 512/512 [00:43<00:00, 11.68it/s, loss=0.0714]\n"
          ]
        },
        {
          "name": "stdout",
          "output_type": "stream",
          "text": [
            "Ssim: 0.6790, Psnr: 16.7886\n",
            "\n",
            "Image 8/10 [1435_5.png]\n"
          ]
        },
        {
          "name": "stderr",
          "output_type": "stream",
          "text": [
            "100%|██████████| 512/512 [00:43<00:00, 11.73it/s, loss=0.0301]\n"
          ]
        },
        {
          "name": "stdout",
          "output_type": "stream",
          "text": [
            "Ssim: 0.8132, Psnr: 18.4693\n",
            "\n",
            "Image 9/10 [1425_5.png]\n"
          ]
        },
        {
          "name": "stderr",
          "output_type": "stream",
          "text": [
            "100%|██████████| 512/512 [00:43<00:00, 11.72it/s, loss=0.00812]\n"
          ]
        },
        {
          "name": "stdout",
          "output_type": "stream",
          "text": [
            "Ssim: 0.7469, Psnr: 16.7833\n",
            "\n",
            "Image 10/10 [1420_5.png]\n"
          ]
        },
        {
          "name": "stderr",
          "output_type": "stream",
          "text": [
            "100%|██████████| 512/512 [00:43<00:00, 11.78it/s, loss=0.0288]\n"
          ]
        },
        {
          "name": "stdout",
          "output_type": "stream",
          "text": [
            "Ssim: 0.8229, Psnr: 16.6879\n",
            "\n",
            "Mean SSIM: 0.7783678829669952\n",
            "Mean PSNR: 17.839021457437095\n",
            "Best SSIM: 1405_5.png\n",
            "Best PSNR: 1405_5.png\n"
          ]
        }
      ],
      "source": [
        "historial_dt3 = dehazing.fit(collection_dt3, epochs, 'd3/', learning_rate)\n",
        "get_information(historial_dt3, collection_dt3)"
      ]
    }
  ],
  "metadata": {
    "accelerator": "GPU",
    "colab": {
      "provenance": []
    },
    "gpuClass": "standard",
    "kernelspec": {
      "display_name": "Python 3",
      "name": "python3"
    },
    "language_info": {
      "codemirror_mode": {
        "name": "ipython",
        "version": 3
      },
      "file_extension": ".py",
      "mimetype": "text/x-python",
      "name": "python",
      "nbconvert_exporter": "python",
      "pygments_lexer": "ipython3",
      "version": "3.9.16"
    }
  },
  "nbformat": 4,
  "nbformat_minor": 0
}
