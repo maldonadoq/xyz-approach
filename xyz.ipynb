{
  "cells": [
    {
      "attachments": {},
      "cell_type": "markdown",
      "metadata": {
        "id": "Mk8RhiayBqd0"
      },
      "source": [
        "### XYZ Network"
      ]
    },
    {
      "cell_type": "code",
      "execution_count": 1,
      "metadata": {
        "id": "rl2q89l-B5y9"
      },
      "outputs": [],
      "source": [
        "import torch\n",
        "import torch.nn as nn\n",
        "import torch.optim as optim\n",
        "torch.manual_seed(0)\n",
        "\n",
        "from tqdm import tqdm\n",
        "from cv2.ximgproc import guidedFilter\n",
        "from skimage.color import rgb2hsv\n",
        "from skimage.metrics import structural_similarity as ssim\n",
        "from skimage.metrics import peak_signal_noise_ratio as psnr\n",
        "\n",
        "import numpy as np\n",
        "import sys\n",
        "\n",
        "sys.path.insert(0, '..')\n",
        "from utils.collection import HazeCollection\n",
        "from utils.network import VaeNet, Net, HazyNet\n",
        "from utils.skip import Skip\n",
        "from utils.loss import StdLoss\n",
        "from utils.utils import get_atmosphere, torch_to_np, np_to_torch, save_image, get_information\n",
        "from utils.imresize import np_imresize"
      ]
    },
    {
      "attachments": {},
      "cell_type": "markdown",
      "metadata": {
        "id": "q92VdKEAC-rT"
      },
      "source": [
        "#### Collection"
      ]
    },
    {
      "cell_type": "code",
      "execution_count": 2,
      "metadata": {
        "id": "-SOJ0kJR5Vad"
      },
      "outputs": [],
      "source": [
        "haze_path_dt0 = \"/home/maldonadoq/Datasets/Reside/Standard/OWN/hazy_only\"\n",
        "image_path_dt0 = \"/home/maldonadoq/Datasets/Reside/Standard/OWN/gt_only\"\n",
        "\n",
        "haze_path_dt1 = \"/home/maldonadoq/Datasets/Reside/Standard/HSTS/synthetic/synthetic\"\n",
        "image_path_dt1 = \"/home/maldonadoq/Datasets/Reside/Standard/HSTS/synthetic/original\"\n",
        "\n",
        "haze_path_dt2 = \"/home/maldonadoq/Datasets/Reside/Standard/HSTS/real-world\"\n",
        "\n",
        "haze_path_dt3 = \"/home/maldonadoq/Datasets/Reside/Standard/SOTS/indoor/hazy_val\"\n",
        "image_path_dt3 = \"/home/maldonadoq/Datasets/Reside/Standard/SOTS/indoor/gt_val\""
      ]
    },
    {
      "cell_type": "code",
      "execution_count": 3,
      "metadata": {},
      "outputs": [],
      "source": [
        "size = 256\n",
        "channels = 3\n",
        "\n",
        "collection_dt0 = HazeCollection(haze_path_dt0, image_path_dt0)\n",
        "collection_dt1 = HazeCollection(haze_path_dt1, image_path_dt1)\n",
        "collection_dt2 = HazeCollection(haze_path_dt2)\n",
        "collection_dt3 = HazeCollection(haze_path_dt3, image_path_dt3)"
      ]
    },
    {
      "attachments": {},
      "cell_type": "markdown",
      "metadata": {
        "id": "P9-3KLGKDFUD"
      },
      "source": [
        "#### Model"
      ]
    },
    {
      "cell_type": "code",
      "execution_count": 4,
      "metadata": {},
      "outputs": [
        {
          "data": {
            "text/plain": [
              "torch.Size([1, 3, 256, 256])"
            ]
          },
          "execution_count": 4,
          "metadata": {},
          "output_type": "execute_result"
        }
      ],
      "source": [
        "# UNet\n",
        "un = Net(channels)\n",
        "\n",
        "x = torch.zeros([1, channels, size, size])\n",
        "a = un(x)\n",
        "a.shape"
      ]
    },
    {
      "attachments": {},
      "cell_type": "markdown",
      "metadata": {
        "id": "96AaXzvpFCHR"
      },
      "source": [
        "#### Training"
      ]
    },
    {
      "cell_type": "code",
      "execution_count": 5,
      "metadata": {
        "id": "DY3Dti5s5f6T"
      },
      "outputs": [],
      "source": [
        "class EnsembleTrainer:\n",
        "    def __init__(\n",
        "        self,\n",
        "        metrics=[]\n",
        "    ):\n",
        "        self.device = \"cuda\" if torch.cuda.is_available() else \"cpu\"\n",
        "        self.metrics = metrics\n",
        "\n",
        "    def init(self, image):\n",
        "        self.model = {\n",
        "            \"netJ\": HazyNet(out_channel=3).to(self.device),\n",
        "            \"netT\": HazyNet(out_channel=1).to(self.device),\n",
        "            \"netA\": VaeNet(image.shape).to(self.device)\n",
        "        }\n",
        "        self.loss = {\n",
        "            \"mse\": nn.MSELoss().to(self.device),\n",
        "            \"std\": StdLoss().to(self.device)\n",
        "        }\n",
        "\n",
        "        atmosphere = get_atmosphere(image)\n",
        "        self.valA = nn.Parameter(data=torch.cuda.FloatTensor(\n",
        "            atmosphere.reshape((1, 3, 1, 1))), requires_grad=False)\n",
        "\n",
        "        parameters = [p for p in self.model[\"netJ\"].parameters()]\n",
        "        parameters += [p for p in self.model[\"netT\"].parameters()]\n",
        "        parameters += [p for p in self.model[\"netA\"].parameters()]\n",
        "\n",
        "        self.optimizer = optim.Adam(\n",
        "            parameters,\n",
        "            lr=self.learning_rate\n",
        "        )\n",
        "\n",
        "    def t_matting(self, mask_out_np, original):\n",
        "        refine_t = guidedFilter(original.transpose(1, 2, 0).astype(\n",
        "            np.float32), mask_out_np[0].astype(np.float32), 50, 1e-4)\n",
        "        return np.array([np.clip(refine_t, 0.1, 1)])\n",
        "\n",
        "    def train(self, information, epochs):\n",
        "        (haze, image, name) = information\n",
        "        self.init(haze)\n",
        "        loop = tqdm(range(epochs))\n",
        "\n",
        "        losses = []\n",
        "        lossFinal = None\n",
        "\n",
        "        hazeTorch = np_to_torch(haze)\n",
        "        hazeTorch = hazeTorch.to(device=self.device)\n",
        "        for i in loop:\n",
        "            # forward\n",
        "            predT = self.model[\"netT\"](hazeTorch)\n",
        "            predJ = self.model[\"netJ\"](hazeTorch)\n",
        "            predA = self.model[\"netA\"](hazeTorch)\n",
        "\n",
        "            lossA = self.model[\"netA\"].getLoss()\n",
        "            lossT = self.loss[\"std\"](predT)\n",
        "\n",
        "            # Xhot\n",
        "            mse_loss = self.loss[\"mse\"](predT * predJ + (1 - predT) * predA, hazeTorch)\n",
        "            XLossJ = mse_loss\n",
        "\n",
        "            # Yoly\n",
        "            hsv = np_to_torch(rgb2hsv(torch_to_np(predJ).transpose(1, 2, 0)))\n",
        "            cap_prior = hsv[:, :, :, 2] - hsv[:, :, :, 1]\n",
        "            cap_loss = self.loss[\"mse\"](cap_prior, torch.zeros_like(cap_prior))\n",
        "            YLossJ = 1.0 * cap_loss\n",
        "\n",
        "            # Zid\n",
        "            dcp_prior = torch.min(predJ.permute(0, 2, 3, 1), 3)[0]\n",
        "            dcp_loss = self.loss[\"mse\"](dcp_prior, torch.zeros_like(dcp_prior)) - 0.05\n",
        "            ZLossJ = dcp_loss\n",
        "\n",
        "            # Final\n",
        "            lossFinalJ = 0.4*XLossJ + 0.4*YLossJ + 0.2*ZLossJ\n",
        "            lossFinalT = 0.005 * lossT\n",
        "            lossFinalA = self.loss[\"mse\"](predA, self.valA) + lossA\n",
        "            lossFinal = lossFinalJ + lossFinalT + lossFinalA\n",
        "\n",
        "            # if i % 100 == 0 or i == epochs-1:\n",
        "            if i == epochs-1:\n",
        "                imageJ = np.clip(torch_to_np(predJ), 0, 1)\n",
        "                imageT = np.clip(torch_to_np(predT), 0, 1)\n",
        "                imageA = np.clip(torch_to_np(predA), 0, 1)\n",
        "                imageT = self.t_matting(imageT, haze)\n",
        "\n",
        "                # I(x) = J(x)t(x) + A(1 − t(x))\n",
        "                # J(x) = (I(X) - A(1 − t(x))) / t(x)\n",
        "                post = np.clip((haze - ((1 - imageT) * imageA)) / imageT, 0, 1)\n",
        "                post = np_imresize(post, output_shape=haze.shape[1:])\n",
        "                save_image('{}_{}'.format(name[0].split('.')[\n",
        "                           0], i+1), post, '../images/dev/' + self.dt_number)\n",
        "\n",
        "            # backward\n",
        "            self.optimizer.zero_grad()\n",
        "            lossFinal.backward(retain_graph=True)\n",
        "            self.optimizer.step()\n",
        "\n",
        "            # update tqdm\n",
        "            loop.set_postfix(loss=lossFinal.item())\n",
        "            losses.append(lossFinal.item())\n",
        "\n",
        "        # metrics\n",
        "        finalSSIM, finalPSNR = 0, 0\n",
        "        if image is not None:\n",
        "            finalSSIM = ssim(post, image, channel_axis=0, data_range=1)\n",
        "            finalPSNR = psnr(post, image)\n",
        "            print(\"Ssim: {:.4f}, Psnr: {:.4f}\\n\".format(finalSSIM, finalPSNR))\n",
        "\n",
        "        return [np.sum(losses)/len(losses), finalSSIM, finalPSNR]\n",
        "\n",
        "    def fit(\n",
        "        self,\n",
        "        collection,\n",
        "        epochs=1,\n",
        "        dt_number='',\n",
        "        learning_rate=1e-3\n",
        "    ):\n",
        "        historial = []\n",
        "        self.dt_number = dt_number\n",
        "        self.learning_rate = learning_rate\n",
        "        # loop = enumerate(tqdm(collection))\n",
        "        for i, info in enumerate(collection):\n",
        "            print('Image {}/{} [{}]'.format(i+1, len(collection), info[2][0]))\n",
        "            loss, ssim, psnr = self.train(info, epochs)\n",
        "            historial.append([loss, ssim, psnr])\n",
        "        return historial"
      ]
    },
    {
      "cell_type": "code",
      "execution_count": 6,
      "metadata": {
        "id": "kPsL9GKp7Vhm"
      },
      "outputs": [],
      "source": [
        "dehazing = EnsembleTrainer()"
      ]
    },
    {
      "attachments": {},
      "cell_type": "markdown",
      "metadata": {},
      "source": [
        "#### Testing"
      ]
    },
    {
      "cell_type": "code",
      "execution_count": 7,
      "metadata": {},
      "outputs": [],
      "source": [
        "epochs = 512\n",
        "learning_rate = 1e-4"
      ]
    },
    {
      "cell_type": "markdown",
      "metadata": {},
      "source": [
        "##### D0"
      ]
    },
    {
      "cell_type": "code",
      "execution_count": 8,
      "metadata": {},
      "outputs": [
        {
          "name": "stdout",
          "output_type": "stream",
          "text": [
            "Image 1/5 [8180_1.png]\n"
          ]
        },
        {
          "name": "stderr",
          "output_type": "stream",
          "text": [
            "100%|██████████| 512/512 [00:19<00:00, 26.64it/s, loss=0.0189]\n"
          ]
        },
        {
          "name": "stdout",
          "output_type": "stream",
          "text": [
            "Ssim: 0.9169, Psnr: 24.0143\n",
            "\n",
            "Image 2/5 [4561_1.png]\n"
          ]
        },
        {
          "name": "stderr",
          "output_type": "stream",
          "text": [
            "100%|██████████| 512/512 [00:15<00:00, 32.40it/s, loss=0.0187]\n"
          ]
        },
        {
          "name": "stdout",
          "output_type": "stream",
          "text": [
            "Ssim: 0.5641, Psnr: 16.6429\n",
            "\n",
            "Image 3/5 [1436_5.png]\n"
          ]
        },
        {
          "name": "stderr",
          "output_type": "stream",
          "text": [
            "100%|██████████| 512/512 [00:23<00:00, 21.52it/s, loss=0.0123]\n"
          ]
        },
        {
          "name": "stdout",
          "output_type": "stream",
          "text": [
            "Ssim: 0.8883, Psnr: 23.0484\n",
            "\n",
            "Image 4/5 [3146_1.png]\n"
          ]
        },
        {
          "name": "stderr",
          "output_type": "stream",
          "text": [
            "100%|██████████| 512/512 [00:16<00:00, 31.30it/s, loss=0.0247]\n"
          ]
        },
        {
          "name": "stdout",
          "output_type": "stream",
          "text": [
            "Ssim: 0.5429, Psnr: 20.1029\n",
            "\n",
            "Image 5/5 [1401_5.png]\n"
          ]
        },
        {
          "name": "stderr",
          "output_type": "stream",
          "text": [
            "100%|██████████| 512/512 [00:24<00:00, 20.71it/s, loss=0.0188]\n"
          ]
        },
        {
          "name": "stdout",
          "output_type": "stream",
          "text": [
            "Ssim: 0.7975, Psnr: 20.2487\n",
            "\n",
            "Mean SSIM: 0.7419376611709595\n",
            "Mean PSNR: 20.811430313688366\n",
            "Best SSIM: 8180_1.png\n",
            "Best PSNR: 8180_1.png\n"
          ]
        }
      ],
      "source": [
        "historial_dt0 = dehazing.fit(collection_dt0, epochs, 'd0/', learning_rate)\n",
        "get_information(historial_dt0, collection_dt0)"
      ]
    },
    {
      "cell_type": "markdown",
      "metadata": {},
      "source": [
        "##### D1"
      ]
    },
    {
      "cell_type": "code",
      "execution_count": 9,
      "metadata": {},
      "outputs": [
        {
          "name": "stdout",
          "output_type": "stream",
          "text": [
            "Image 1/10 [1381.jpg]\n"
          ]
        },
        {
          "name": "stderr",
          "output_type": "stream",
          "text": [
            "100%|██████████| 512/512 [00:21<00:00, 23.89it/s, loss=0.0077] \n"
          ]
        },
        {
          "name": "stdout",
          "output_type": "stream",
          "text": [
            "Ssim: 0.8148, Psnr: 18.1939\n",
            "\n",
            "Image 2/10 [5576.jpg]\n"
          ]
        },
        {
          "name": "stderr",
          "output_type": "stream",
          "text": [
            "100%|██████████| 512/512 [00:16<00:00, 30.15it/s, loss=0.00994]\n"
          ]
        },
        {
          "name": "stdout",
          "output_type": "stream",
          "text": [
            "Ssim: 0.8260, Psnr: 22.5144\n",
            "\n",
            "Image 3/10 [7471.jpg]\n"
          ]
        },
        {
          "name": "stderr",
          "output_type": "stream",
          "text": [
            "100%|██████████| 512/512 [00:17<00:00, 28.78it/s, loss=0.0226]\n"
          ]
        },
        {
          "name": "stdout",
          "output_type": "stream",
          "text": [
            "Ssim: 0.8852, Psnr: 20.8972\n",
            "\n",
            "Image 4/10 [0586.jpg]\n"
          ]
        },
        {
          "name": "stderr",
          "output_type": "stream",
          "text": [
            "100%|██████████| 512/512 [00:21<00:00, 23.92it/s, loss=0.0234]\n"
          ]
        },
        {
          "name": "stdout",
          "output_type": "stream",
          "text": [
            "Ssim: 0.8512, Psnr: 17.0757\n",
            "\n",
            "Image 5/10 [5920.jpg]\n"
          ]
        },
        {
          "name": "stderr",
          "output_type": "stream",
          "text": [
            "100%|██████████| 512/512 [00:21<00:00, 23.41it/s, loss=0.0155]\n"
          ]
        },
        {
          "name": "stdout",
          "output_type": "stream",
          "text": [
            "Ssim: 0.9587, Psnr: 26.7755\n",
            "\n",
            "Image 6/10 [3146.jpg]\n"
          ]
        },
        {
          "name": "stderr",
          "output_type": "stream",
          "text": [
            "100%|██████████| 512/512 [00:17<00:00, 29.77it/s, loss=0.0226]\n"
          ]
        },
        {
          "name": "stdout",
          "output_type": "stream",
          "text": [
            "Ssim: 0.8672, Psnr: 23.1699\n",
            "\n",
            "Image 7/10 [4184.jpg]\n"
          ]
        },
        {
          "name": "stderr",
          "output_type": "stream",
          "text": [
            "100%|██████████| 512/512 [00:24<00:00, 20.98it/s, loss=0.0247]\n"
          ]
        },
        {
          "name": "stdout",
          "output_type": "stream",
          "text": [
            "Ssim: 0.8963, Psnr: 21.9007\n",
            "\n",
            "Image 8/10 [8180.jpg]\n"
          ]
        },
        {
          "name": "stderr",
          "output_type": "stream",
          "text": [
            "100%|██████████| 512/512 [00:18<00:00, 27.44it/s, loss=0.0229]\n"
          ]
        },
        {
          "name": "stdout",
          "output_type": "stream",
          "text": [
            "Ssim: 0.6635, Psnr: 14.7686\n",
            "\n",
            "Image 9/10 [1352.jpg]\n"
          ]
        },
        {
          "name": "stderr",
          "output_type": "stream",
          "text": [
            "100%|██████████| 512/512 [00:35<00:00, 14.60it/s, loss=0.0153]\n"
          ]
        },
        {
          "name": "stdout",
          "output_type": "stream",
          "text": [
            "Ssim: 0.9643, Psnr: 25.7726\n",
            "\n",
            "Image 10/10 [4561.jpg]\n"
          ]
        },
        {
          "name": "stderr",
          "output_type": "stream",
          "text": [
            "100%|██████████| 512/512 [00:16<00:00, 31.05it/s, loss=0.0174]"
          ]
        },
        {
          "name": "stdout",
          "output_type": "stream",
          "text": [
            "Ssim: 0.4353, Psnr: 14.4311\n",
            "\n",
            "Mean SSIM: 0.8162642627954483\n",
            "Mean PSNR: 20.54995269634143\n",
            "Best SSIM: 1352.jpg\n",
            "Best PSNR: 5920.jpg\n"
          ]
        },
        {
          "name": "stderr",
          "output_type": "stream",
          "text": [
            "\n"
          ]
        }
      ],
      "source": [
        "historial_dt1 = dehazing.fit(collection_dt1, epochs, 'd1/', learning_rate)\n",
        "get_information(historial_dt1, collection_dt1)"
      ]
    },
    {
      "cell_type": "markdown",
      "metadata": {},
      "source": [
        "##### D2"
      ]
    },
    {
      "cell_type": "code",
      "execution_count": 10,
      "metadata": {},
      "outputs": [
        {
          "name": "stdout",
          "output_type": "stream",
          "text": [
            "Image 1/10 [SFC_Google_197.jpeg]\n"
          ]
        },
        {
          "name": "stderr",
          "output_type": "stream",
          "text": [
            "100%|██████████| 512/512 [00:29<00:00, 17.37it/s, loss=0.0228] \n"
          ]
        },
        {
          "name": "stdout",
          "output_type": "stream",
          "text": [
            "Image 2/10 [MLS_Bing_117.jpeg]\n"
          ]
        },
        {
          "name": "stderr",
          "output_type": "stream",
          "text": [
            "100%|██████████| 512/512 [00:32<00:00, 15.75it/s, loss=0.0194]\n"
          ]
        },
        {
          "name": "stdout",
          "output_type": "stream",
          "text": [
            "Image 3/10 [HazyDr_Google_396.jpeg]\n"
          ]
        },
        {
          "name": "stderr",
          "output_type": "stream",
          "text": [
            "100%|██████████| 512/512 [00:32<00:00, 15.88it/s, loss=0.0365]\n"
          ]
        },
        {
          "name": "stdout",
          "output_type": "stream",
          "text": [
            "Image 4/10 [SGP_Bing_085.jpeg]\n"
          ]
        },
        {
          "name": "stderr",
          "output_type": "stream",
          "text": [
            "100%|██████████| 512/512 [01:28<00:00,  5.81it/s, loss=0.0309]\n"
          ]
        },
        {
          "name": "stdout",
          "output_type": "stream",
          "text": [
            "Image 5/10 [NW_Google_837.jpeg]\n"
          ]
        },
        {
          "name": "stderr",
          "output_type": "stream",
          "text": [
            "100%|██████████| 512/512 [00:29<00:00, 17.37it/s, loss=0.0134]\n"
          ]
        },
        {
          "name": "stdout",
          "output_type": "stream",
          "text": [
            "Image 6/10 [YST_Bing_667.jpeg]\n"
          ]
        },
        {
          "name": "stderr",
          "output_type": "stream",
          "text": [
            "100%|██████████| 512/512 [00:32<00:00, 15.54it/s, loss=0.018]  \n"
          ]
        },
        {
          "name": "stdout",
          "output_type": "stream",
          "text": [
            "Image 7/10 [MLS_Google_585.png]\n"
          ]
        },
        {
          "name": "stderr",
          "output_type": "stream",
          "text": [
            "100%|██████████| 512/512 [00:56<00:00,  9.07it/s, loss=0.0344]\n"
          ]
        },
        {
          "name": "stdout",
          "output_type": "stream",
          "text": [
            "Image 8/10 [SGP_Bing_588.png]\n"
          ]
        },
        {
          "name": "stderr",
          "output_type": "stream",
          "text": [
            "100%|██████████| 512/512 [00:33<00:00, 15.38it/s, loss=0.0178]\n"
          ]
        },
        {
          "name": "stdout",
          "output_type": "stream",
          "text": [
            "Image 9/10 [KRO_Google_143.jpeg]\n"
          ]
        },
        {
          "name": "stderr",
          "output_type": "stream",
          "text": [
            "100%|██████████| 512/512 [00:33<00:00, 15.42it/s, loss=0.0159]\n"
          ]
        },
        {
          "name": "stdout",
          "output_type": "stream",
          "text": [
            "Image 10/10 [HazeDr_Google_404.jpeg]\n"
          ]
        },
        {
          "name": "stderr",
          "output_type": "stream",
          "text": [
            "100%|██████████| 512/512 [01:16<00:00,  6.72it/s, loss=0.0491]\n"
          ]
        },
        {
          "name": "stdout",
          "output_type": "stream",
          "text": [
            "Mean SSIM: 0.0\n",
            "Mean PSNR: 0.0\n",
            "Best SSIM: SFC_Google_197.jpeg\n",
            "Best PSNR: SFC_Google_197.jpeg\n"
          ]
        }
      ],
      "source": [
        "historial_dt2 = dehazing.fit(collection_dt2, epochs, 'd2/', learning_rate)\n",
        "get_information(historial_dt2, collection_dt2)"
      ]
    },
    {
      "cell_type": "markdown",
      "metadata": {},
      "source": [
        "##### D3"
      ]
    },
    {
      "cell_type": "code",
      "execution_count": 11,
      "metadata": {},
      "outputs": [
        {
          "name": "stdout",
          "output_type": "stream",
          "text": [
            "Image 1/10 [1410_5.png]\n"
          ]
        },
        {
          "name": "stderr",
          "output_type": "stream",
          "text": [
            "100%|██████████| 512/512 [00:26<00:00, 19.22it/s, loss=0.0391]\n"
          ]
        },
        {
          "name": "stdout",
          "output_type": "stream",
          "text": [
            "Ssim: 0.7548, Psnr: 17.6928\n",
            "\n",
            "Image 2/10 [1430_5.png]\n"
          ]
        },
        {
          "name": "stderr",
          "output_type": "stream",
          "text": [
            "100%|██████████| 512/512 [00:26<00:00, 19.32it/s, loss=0.0283] \n"
          ]
        },
        {
          "name": "stdout",
          "output_type": "stream",
          "text": [
            "Ssim: 0.6245, Psnr: 16.3705\n",
            "\n",
            "Image 3/10 [1440_5.png]\n"
          ]
        },
        {
          "name": "stderr",
          "output_type": "stream",
          "text": [
            "100%|██████████| 512/512 [00:25<00:00, 19.75it/s, loss=0.0386]\n"
          ]
        },
        {
          "name": "stdout",
          "output_type": "stream",
          "text": [
            "Ssim: 0.7829, Psnr: 17.7636\n",
            "\n",
            "Image 4/10 [1405_5.png]\n"
          ]
        },
        {
          "name": "stderr",
          "output_type": "stream",
          "text": [
            "100%|██████████| 512/512 [00:26<00:00, 19.07it/s, loss=0.0304]\n"
          ]
        },
        {
          "name": "stdout",
          "output_type": "stream",
          "text": [
            "Ssim: 0.8462, Psnr: 20.9933\n",
            "\n",
            "Image 5/10 [1400_5.png]\n"
          ]
        },
        {
          "name": "stderr",
          "output_type": "stream",
          "text": [
            "100%|██████████| 512/512 [00:25<00:00, 19.74it/s, loss=0.0195]\n"
          ]
        },
        {
          "name": "stdout",
          "output_type": "stream",
          "text": [
            "Ssim: 0.7698, Psnr: 17.2330\n",
            "\n",
            "Image 6/10 [1415_5.png]\n"
          ]
        },
        {
          "name": "stderr",
          "output_type": "stream",
          "text": [
            "100%|██████████| 512/512 [00:25<00:00, 19.86it/s, loss=0.0249]\n"
          ]
        },
        {
          "name": "stdout",
          "output_type": "stream",
          "text": [
            "Ssim: 0.8827, Psnr: 22.7750\n",
            "\n",
            "Image 7/10 [1445_5.png]\n"
          ]
        },
        {
          "name": "stderr",
          "output_type": "stream",
          "text": [
            "100%|██████████| 512/512 [00:26<00:00, 19.37it/s, loss=0.0351]\n"
          ]
        },
        {
          "name": "stdout",
          "output_type": "stream",
          "text": [
            "Ssim: 0.4724, Psnr: 15.2504\n",
            "\n",
            "Image 8/10 [1435_5.png]\n"
          ]
        },
        {
          "name": "stderr",
          "output_type": "stream",
          "text": [
            "100%|██████████| 512/512 [00:26<00:00, 19.64it/s, loss=0.0221]\n"
          ]
        },
        {
          "name": "stdout",
          "output_type": "stream",
          "text": [
            "Ssim: 0.8724, Psnr: 21.9918\n",
            "\n",
            "Image 9/10 [1425_5.png]\n"
          ]
        },
        {
          "name": "stderr",
          "output_type": "stream",
          "text": [
            "100%|██████████| 512/512 [00:26<00:00, 19.45it/s, loss=0.0221]\n"
          ]
        },
        {
          "name": "stdout",
          "output_type": "stream",
          "text": [
            "Ssim: 0.5287, Psnr: 14.9886\n",
            "\n",
            "Image 10/10 [1420_5.png]\n"
          ]
        },
        {
          "name": "stderr",
          "output_type": "stream",
          "text": [
            "100%|██████████| 512/512 [00:25<00:00, 19.80it/s, loss=0.0283]\n"
          ]
        },
        {
          "name": "stdout",
          "output_type": "stream",
          "text": [
            "Ssim: 0.7827, Psnr: 19.0935\n",
            "\n",
            "Mean SSIM: 0.7317064851522446\n",
            "Mean PSNR: 18.415233740510317\n",
            "Best SSIM: 1415_5.png\n",
            "Best PSNR: 1415_5.png\n"
          ]
        }
      ],
      "source": [
        "historial_dt3 = dehazing.fit(collection_dt3, epochs, 'd3/', learning_rate)\n",
        "get_information(historial_dt3, collection_dt3)"
      ]
    }
  ],
  "metadata": {
    "accelerator": "GPU",
    "colab": {
      "provenance": []
    },
    "gpuClass": "standard",
    "kernelspec": {
      "display_name": "Python 3",
      "name": "python3"
    },
    "language_info": {
      "codemirror_mode": {
        "name": "ipython",
        "version": 3
      },
      "file_extension": ".py",
      "mimetype": "text/x-python",
      "name": "python",
      "nbconvert_exporter": "python",
      "pygments_lexer": "ipython3",
      "version": "3.9.16"
    }
  },
  "nbformat": 4,
  "nbformat_minor": 0
}
